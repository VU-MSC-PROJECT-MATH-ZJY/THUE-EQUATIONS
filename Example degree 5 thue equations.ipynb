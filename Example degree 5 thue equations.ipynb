{
 "cells": [
  {
   "cell_type": "code",
   "execution_count": 4,
   "metadata": {
    "collapsed": false
   },
   "outputs": [
    {
     "name": "stdout",
     "output_type": "stream",
     "text": [
      "[x^5 + 10*x^4*y + 2*x^3*y^2 - 4*x^2*y^3 + x*y^4 + 9*y^5, x^5 + 6*x^4*y + 4*x^3*y^2 + 4*x^2*y^3 + 10*x*y^4 - 10*y^5, x^5 - 4*x^4*y - 8*x^3*y^2 - 6*x^2*y^3 - 7*x*y^4 + 4*y^5, x^5 + 2*x^4*y + 6*x^3*y^2 + x^2*y^3 + 2*x*y^4 + 5*y^5, x^5 - 10*x^4*y + 7*x^3*y^2 - 5*x^2*y^3 - 5*x*y^4 - 4*y^5]\n"
     ]
    }
   ],
   "source": [
    "### Generate n random quintic irreducible polynomials F(x,y) with coefficients having absolute value < ran\n",
    "### n <=  ran\n",
    "\n",
    "\n",
    "def gen_poly(ran,n):\n",
    "    PolyRing2.<x,y> = QQ[]\n",
    "    PolyRing1.<x> = QQ[]\n",
    "    const=2*ran\n",
    "    K1=sample(range(-ran,ran+1),const)\n",
    "    K2=sample(range(-ran,ran+1),const)\n",
    "    K3=sample(range(-ran,ran+1),const)\n",
    "    K4=sample(range(-ran,ran+1),const)\n",
    "    K5=sample(range(-ran,ran+1),const)\n",
    "    E=[]\n",
    "    for i in range(const):\n",
    "        F=x^5 + K1[i]* x^4 * y + K2[i] * x^3 * y^2 + K3[i]* x^2 * y^3 + K4[i] * x * y^4 + K5[i] * y^5\n",
    "        F1=PolyRing1(F(x,1))\n",
    "        if F1.is_irreducible() == True:\n",
    "            E.append( F )\n",
    "    if len(E)<n:\n",
    "        return(E)\n",
    "    else:\n",
    "        E=[E[i] for i in range(n)]\n",
    "        return(E)\n",
    "    \n",
    "print(gen_poly(10,5))"
   ]
  },
  {
   "cell_type": "code",
   "execution_count": 5,
   "metadata": {
    "collapsed": false
   },
   "outputs": [
   ],
   "source": [
    "PolyRing2.<x,y> = QQ[]\n",
    "PolyRing1.<x> = QQ[]\n",
    "\n",
    "### randomly generated polynomials to be tested\n",
    "\n",
    "E=[x^5 + 6*x^4*y - 5*x^3*y^2 - 6*x^2*y^3 + 8*x*y^4 - 6*y^5, x^5 - 7*x^4*y - 10*x^3*y^2 - 4*x^2*y^3 + 10*x*y^4 + 5*y^5, x^5 + 8*x^4*y - 2*x^3*y^2 - 8*x^2*y^3 - 5*x*y^4 + 4*y^5, x^5 + 5*x^4*y + 4*x^3*y^2 + 5*x^2*y^3 + 7*x*y^4 - 3*y^5, x^5 - 10*x^4*y + 6*x^3*y^2 + 2*x^2*y^3 + 2*x*y^4 + 9*y^5, x^5 + 3*x^4*y + 7*x^3*y^2 - 3*x^2*y^3 + 4*x*y^4 - 4*y^5, x^5 + 4*x^4*y + 2*x^3*y^2 - 2*x^2*y^3 - 9*x*y^4 + 3*y^5, x^5 - 8*x^4*y + 9*x^3*y^2 + x^2*y^3 + x*y^4 + y^5, x^5 + 7*x^4*y - 8*x^3*y^2 + 8*x^2*y^3 + 3*x*y^4 - y^5, x^5 - 5*x^4*y + 3*x^3*y^2 + 6*x^2*y^3 - 8*x*y^4 + 7*y^5]\n"
   ]
  },
  {
   "cell_type": "code",
   "execution_count": 6,
   "metadata": {
    "collapsed": false
   },
   "outputs": [
   ],
   "source": [
    "### Using modular arithmetic to check the unsolvability in integers of the equation\n",
    "### Input: F, an irrducible polynomial in Z[x,y];m, an integer; p, n, natural numbers \n",
    "###      all prime numbers <= p are used for the reduction\n",
    "###      all x,y with absolute value <= n are used for the reduction\n",
    "### Output: 1 means F(x,y)=m is not solvable in integers, 0 means unable to determine or F is reducible\n",
    "\n",
    "def reduction(F,m,p,n):\n",
    "    PolyRing2.<x,y> = QQ[]\n",
    "    PolyRing1.<x> = QQ[]\n",
    "    poly=F\n",
    "    div=prime_range(p)\n",
    "    for i in range(len(div)):\n",
    "        FF=GF(div[i])   ### finite field\n",
    "        list=[FF(poly(x,y))-m for x in range(  -n,n+1  )  for y in range(  -n,n+1  ) ]\n",
    "        if prod(list)!=0:\n",
    "            return(1)\n",
    "            break\n",
    "        else:\n",
    "            return(0)\n"
   ]
  },
  {
   "cell_type": "code",
   "execution_count": 7,
   "metadata": {
    "collapsed": false
   },
   "outputs": [
   ],
   "source": [
    "### Further sovability check by looking at the norm list\n",
    "### Input: F(x,y),m\n",
    "### Output: 1 means maybe solvable, 0 means not solvable or the polynomial x^5-c is reducible\n",
    "\n",
    "\n",
    "\n",
    "def NormCheck(F,m):\n",
    "    PolyRing2.<x,y> = QQ[]\n",
    "    PolyRing1.<x> = QQ[]\n",
    "    F1=F(x,1)\n",
    "    poly=PolyRing1(F1)\n",
    "    if poly.is_irreducible() == True:\n",
    "        K.<theta> = NumberField(poly)\n",
    "        norm_list=K.elements_of_norm(m)\n",
    "        if len(norm_list)>0:\n",
    "            return(1)\n",
    "        else:\n",
    "            return(0)\n",
    "    else:\n",
    "        return(0)"
   ]
  },
  {
   "cell_type": "code",
   "execution_count": 8,
   "metadata": {
    "collapsed": false
   },
   "outputs": [
   ],
   "source": [
    "### Fucntion of modified height, using the approximation with algdep\n",
    "### Input : X, a list of n non-integer elements; d, the degree of F(x,y)\n",
    "### Output: the modified heights of each element of X, and the index of [Q(X):Q]\n",
    "\n",
    "def HeightMod(X,d):\n",
    "    n=len(X)\n",
    "    deg=factorial(d)\n",
    "    P=[CC(X[i]).algdep(deg) for i in range(n)]\n",
    "    HM=[max( (P[i]).global_height(),  ln(abs(CC(X[i]))),   1   )   for i in range(n)]\n",
    "    return(HM)\n",
    "\n",
    "### Outputs the absolute value of elements as considered in complex numbers\n",
    "### Prvents \"bad operand type\" error in some cases\n",
    "\n",
    "def abs_mod(x):\n",
    "    return(abs(CC(x)))"
   ]
  },
  {
   "cell_type": "code",
   "execution_count": 9,
   "metadata": {
    "collapsed": false
   },
   "outputs": [
   ],
   "source": [
    "### Function of the LLL reduction step\n",
    "### Input: alpha_0, ALPHA=(alpha_1,...,alpha_n),Z0,p_1,p_2\n",
    "###      as in the text\n",
    "### Output: the reduced upper bound\n",
    "\n",
    "\n",
    "def LLLReduction(alpha0,ALPHA,Z0,p1,p2):           \n",
    "    from sage.functions.log import logb\n",
    "    C=10^((1.25*logb(Z0, 10).n(prec=40)).ceiling())\n",
    "    n=len(ALPHA)\n",
    "    def TempFunc(C,n,alpha0,ALPHA,Z0,p1,p2):             ### Temporary function\n",
    "        \n",
    "        M=matrix.identity(n)\n",
    "        for i in range(n):\n",
    "            M[n-2,i]=max( round(C*real_part(  CC(ALPHA[i])  )),1 ) \n",
    "            M[n-1,i]=max( round(C*imag_part(  CC(ALPHA[i])  )),1 )\n",
    "        Y=zero_vector(n)\n",
    "        Y[n-2]=round(C*real_part(  CC(alpha0)  ))\n",
    "        Y[n-1]=round(C*imag_part(  CC(alpha0)  ))\n",
    "        M=M.T\n",
    "        MLLL=(M.LLL())\n",
    "        MLLL=MLLL.T\n",
    "        GS1,GS2=(MLLL).gram_schmidt()\n",
    "        cc1=max([norm(MLLL.column(0))^2/ norm(GS1.column(i))^2 for i in range(n)])\n",
    "        sigma=(MLLL).inverse()*Y\n",
    "        sigma_dist_vec=[min([sigma[i]-floor(sigma[i]),ceil(sigma[i])-sigma[i]]) for i in range(n)]\n",
    "        sigma_dist_vec=[x for x in sigma_dist_vec if x!= 0]\n",
    "        sigma_dist=sigma_dist_vec[len(sigma_dist_vec)-1]\n",
    "        if Y in M.column_space() == False:\n",
    "            L=cc1^(-1)*sigma_dist*norm(MLLL.column(0))^2\n",
    "        else:\n",
    "            L=cc1^(-1)*norm(MLLL.column(0))^2\n",
    "        return(L)\n",
    "    \n",
    "    SS=(n-2)*(Z0)^2   ### S as in the text\n",
    "    TT=(1+n*Z0)/sqrt(2)   ### T as in the text\n",
    "    L=TempFunc(C,n,alpha0,ALPHA,Z0,p1,p2)   ### L as in the text\n",
    "    index=0\n",
    "    while L^2-SS-TT^2 <0:         ### We need L^2-SS-TT^2 >= 0 \n",
    "        C=(1.3*C).ceiling()\n",
    "        L=TempFunc(C,n,alpha0,ALPHA,Z0,p1,p2)\n",
    "        index=index+1\n",
    "        if index >15:\n",
    "            return('Error: LLL-reduction not applicable')\n",
    "        break\n",
    "\n",
    "    upper_bound=floor(abs((1/p2)*(ln(C*p1)-ln(sqrt(L^2-SS)-TT) )))\n",
    "    return(upper_bound)"
   ]
  },
  {
   "cell_type": "code",
   "execution_count": 10,
   "metadata": {
    "collapsed": false
   },
   "outputs": [
   ],
   "source": [
    "### Main function, method of T&W\n",
    "### Input: F(x,y), m\n",
    "###      F(x,y) must be monic and irreducible\n",
    "### Output: (abs(x),abs(y)) of all integer solutions pairs (x,y)\n",
    "\n",
    "\n",
    "def solveTzaWeg(F,m):\n",
    "    PolyRing2.<x,y> = QQ[]\n",
    "    PolyRing1.<x> = QQ[]\n",
    "    poly=PolyRing1(F.subs(y=1))\n",
    "    deg=poly.degree()\n",
    "    K.<theta> = NumberField(poly)\n",
    "    UG = UnitGroup(K)\n",
    "    TU=[u for u in UG.gens_values() if u.multiplicative_order() < +Infinity]\n",
    "    FU=[u for u in UG.gens_values() if u.multiplicative_order() == +Infinity]\n",
    "    rk=len(FU)\n",
    "    thetas=poly.roots(CC,multiplicities=False)\n",
    "    norm_list=K.elements_of_norm(m)\n",
    "    ### Ordering the roots and embeddings so that the real ones are in front, followed by distinct complex ones, then the conjugates \n",
    "    \n",
    "    real_roots=[]\n",
    "    comp_roots=[]\n",
    "    for i in thetas:\n",
    "        if i.is_real() == True:\n",
    "            real_roots.append(i)\n",
    "        else:\n",
    "            comp_roots.append(i)\n",
    "    r1=len(real_roots)\n",
    "    r2=(deg-r1)/2\n",
    "    if r1 < deg:\n",
    "        ordered_roots=[0 for i in range(deg)]\n",
    "    for i in range(r1):\n",
    "        ordered_roots[i]=real_roots[i]\n",
    "    index=r1\n",
    "    for i in range(2*r2):\n",
    "        if comp_roots[i] not in ordered_roots :\n",
    "            ordered_roots[index]=comp_roots[i]\n",
    "            ordered_roots[index+r2]=comp_roots[i].conjugate()\n",
    "            index=index+1\n",
    "    thetas=ordered_roots\n",
    "    from sage.rings.number_field.number_field_morphisms import create_embedding_from_approx\n",
    "    emb=[create_embedding_from_approx(K, thetas[i]) for i in range(deg) ]\n",
    "    \n",
    "    \n",
    "    ### computing c1\n",
    "    M=matrix(RR,deg,deg)\n",
    "    for i in range(deg):\n",
    "        for j in range(deg):\n",
    "            if j < i:\n",
    "                M[i,j] = abs(thetas[i]-thetas[j])\n",
    "            else:\n",
    "                M[i,j] = abs(thetas[i])+abs(thetas[j])\n",
    "    c1=2/min(M.list())\n",
    "    ### Computing c2, c3\n",
    "    L=[0 for i in range(deg)]\n",
    "    for i in range(deg):\n",
    "        L[i]=max([abs((thetas[i]-thetas[j])/(thetas[i]-thetas[k])).n(prec=50) for j in range(deg) for k in range(deg) if j != i if k != j if k != i ])\n",
    "    c2=max(L)\n",
    "    c3=c1*c2\n",
    "    ### Computing c4, c5\n",
    "    MFU = matrix(RR, rk+1, rk, lambda i, j: ln(abs(emb[i](FU[j]).n(prec=50))))   ### Matrix of log of abs of fundamental units\n",
    "    V=[(MFU.delete_rows([i])).inverse() for i in range(rk+1)]    ### Inverse of matrix U_I as in the text\n",
    "    c4=1/(max([V[i].norm(Infinity) for i in range(rk+1)] ))\n",
    "    c5=c4/(deg-0.9)\n",
    "    ### Cases A,B \n",
    "    ### Computing c6, c7 and the corresponding A1,A2\n",
    "    M=matrix(RR,deg,len(norm_list))\n",
    "    for i in range(deg):\n",
    "        for j in range(len(norm_list)):\n",
    "            M[i,j]=( abs( emb[i](norm_list[j]) .n(prec=60) ))^(-1)         \n",
    "    c6=max(M.list())\n",
    "    c7=min(M.list())\n",
    "    A1=ln(c6*abs(m))/(c4-(deg-1)*c5)\n",
    "    A1_min=ln(c6*abs(m))/(c4)\n",
    "    A2=ln(c7)/(c4-c5)\n",
    "    ### Case C\n",
    "    ### Loop all possible abs(theta_i) in the real roots \n",
    "    bound_temp=[A1_min,A2,3]\n",
    "    CC100=ComplexField(100)\n",
    "    for i in range(deg):\n",
    "        if thetas[i].is_real() == True:\n",
    "            JK=[j for j in range(deg) if j != 1]\n",
    "            j=JK[deg-2]\n",
    "            k=JK[deg-3]\n",
    "            alpha2=CC100((emb[i](norm_list[0])/emb[j](norm_list[0])))*CC100((emb[i](FU[0])/emb[j](FU[0])))*((thetas[j]-thetas[k])/(thetas[k]-thetas[i]))\n",
    "            units=[]\n",
    "            for ii in range(rk):\n",
    "                units.append((emb[k](FU[ii])/emb[j](FU[ii])))\n",
    "            vector=units\n",
    "            vector.append(alpha2)\n",
    "            heights=HeightMod( vector ,deg)\n",
    "            hm0=abs(ln(-1))\n",
    "            c8=(18*factorial(5)*(4^5)*(256^6)*ln(64)*prod(heights)*hm0)\n",
    "            A_0=(2/c5)*( ln(2*c3) +c8*ln(3/2) +c8*ln(c8/c5)  ).n(prec=16)\n",
    "            alpha0=ln(-alpha2)\n",
    "            ALPHA=units\n",
    "            ALPHA.append(2*pi*sqrt(-1))\n",
    "            p1=2*c3\n",
    "            p2=c5\n",
    "            bound1=LLLReduction(alpha0,ALPHA,A_0,p1,p2)\n",
    "            if bound1 >= 50:\n",
    "                bound2=LLLReduction(alpha0,ALPHA,bound1,p1,p2)\n",
    "                if bound2 >= 50:\n",
    "                    bound3=LLLReduction(alpha0,ALPHA,bound2,p1,p2)\n",
    "                else:\n",
    "                    bound3=bound2\n",
    "            else:\n",
    "                bound3=bound1\n",
    "            bound_temp.append(bound3)\n",
    "    bound_final=floor(max(bound_temp))\n",
    "    \n",
    "    XY=[]\n",
    "    from itertools import product\n",
    "    per=list(product(range(-bound_final,bound_final+1), repeat=rk))   ### Repeated permutation\n",
    "    for i in range(len(per)):\n",
    "        result1=prod([FU[j]^(per[i][j]) for j in range(rk)])\n",
    "        for k in range(len(norm_list)):\n",
    "            for ii in range(TU[0].multiplicative_order()):\n",
    "                result2=(norm_list[k])*(TU[0]^ii)*result1\n",
    "                P=result2.polynomial(var='t')\n",
    "                if P.degree() <2:\n",
    "                    a0=abs(result2[0])\n",
    "                    a1=abs(result2[1])\n",
    "                    XY.append((a0,a1))\n",
    "                    \n",
    "    ### Computing Y0 and loop over all abs(y)<=Y0\n",
    "    im_roots=[abs(i) for i in thetas if i.is_real()==False]\n",
    "    c9=max([2^(deg-1)*abs(m)/abs(poly.derivative()(thetas[i])) for i in range(deg)])\n",
    "    Y0=RR((c9/min(im_roots))^(1/deg))\n",
    "    Y0=Y0.floor()\n",
    "    for jj in range(Y0):\n",
    "        poly2=PolyRing1(F.subs(y=jj))\n",
    "        int_roots=poly.roots(ZZ,multiplicities=False)\n",
    "        number1=len(int_roots)\n",
    "        if number1 > 0:\n",
    "            for kk in range(number1):\n",
    "                XY.append((int_roots[kk],jj))\n",
    "\n",
    "    return(sorted(set(XY)))"
   ]
  },
  {
   "cell_type": "code",
   "execution_count": 11,
   "metadata": {
    "collapsed": false
   },
   "outputs": [
    {
     "name": "stdout",
     "output_type": "stream",
     "text": [
      "total number of equations considered = 50\n",
      "out of which passed the insolvability test and hence are up to further inspection = 34\n"
     ]
    }
   ],
   "source": [
    "### preliminary algorithm\n",
    "\n",
    "\n",
    "PolyRing2.<x,y> = QQ[]\n",
    "PolyRing1.<x> = QQ[]\n",
    "n=5\n",
    "MM=[i for i in range(1,n+1)]\n",
    "L1=[]\n",
    "for i in range(len(E)):\n",
    "    for j in range(len(MM)):\n",
    "        const=NormCheck(E[i],MM[j])\n",
    "        if const==1:\n",
    "            if reduction(E[i],MM[j],10,5) == 0:\n",
    "                L1.append((E[i],MM[j]))\n",
    "                    \n",
    "\n",
    "print('total number of equations considered =',len(E)*len(MM))\n",
    "print('out of which passed the insolvability test and hence are up to further inspection =',len(L1))"
   ]
  },
  {
   "cell_type": "code",
   "execution_count": 12,
   "metadata": {
    "collapsed": false
   },
   "outputs": [
    {
     "name": "stdout",
     "output_type": "stream",
     "text": [
      "[(x^5 + 6*x^4*y - 5*x^3*y^2 - 6*x^2*y^3 + 8*x*y^4 - 6*y^5, 1), (x^5 + 6*x^4*y - 5*x^3*y^2 - 6*x^2*y^3 + 8*x*y^4 - 6*y^5, 2), (x^5 + 6*x^4*y - 5*x^3*y^2 - 6*x^2*y^3 + 8*x*y^4 - 6*y^5, 3), (x^5 + 6*x^4*y - 5*x^3*y^2 - 6*x^2*y^3 + 8*x*y^4 - 6*y^5, 4), (x^5 + 6*x^4*y - 5*x^3*y^2 - 6*x^2*y^3 + 8*x*y^4 - 6*y^5, 5), (x^5 - 7*x^4*y - 10*x^3*y^2 - 4*x^2*y^3 + 10*x*y^4 + 5*y^5, 1), (x^5 - 7*x^4*y - 10*x^3*y^2 - 4*x^2*y^3 + 10*x*y^4 + 5*y^5, 4), (x^5 - 7*x^4*y - 10*x^3*y^2 - 4*x^2*y^3 + 10*x*y^4 + 5*y^5, 5), (x^5 + 8*x^4*y - 2*x^3*y^2 - 8*x^2*y^3 - 5*x*y^4 + 4*y^5, 1), (x^5 + 8*x^4*y - 2*x^3*y^2 - 8*x^2*y^3 - 5*x*y^4 + 4*y^5, 2), (x^5 + 8*x^4*y - 2*x^3*y^2 - 8*x^2*y^3 - 5*x*y^4 + 4*y^5, 4), (x^5 + 8*x^4*y - 2*x^3*y^2 - 8*x^2*y^3 - 5*x*y^4 + 4*y^5, 5), (x^5 + 5*x^4*y + 4*x^3*y^2 + 5*x^2*y^3 + 7*x*y^4 - 3*y^5, 1), (x^5 + 5*x^4*y + 4*x^3*y^2 + 5*x^2*y^3 + 7*x*y^4 - 3*y^5, 3), (x^5 + 5*x^4*y + 4*x^3*y^2 + 5*x^2*y^3 + 7*x*y^4 - 3*y^5, 5), (x^5 - 10*x^4*y + 6*x^3*y^2 + 2*x^2*y^3 + 2*x*y^4 + 9*y^5, 1), (x^5 - 10*x^4*y + 6*x^3*y^2 + 2*x^2*y^3 + 2*x*y^4 + 9*y^5, 2), (x^5 - 10*x^4*y + 6*x^3*y^2 + 2*x^2*y^3 + 2*x*y^4 + 9*y^5, 4), (x^5 - 10*x^4*y + 6*x^3*y^2 + 2*x^2*y^3 + 2*x*y^4 + 9*y^5, 5), (x^5 + 3*x^4*y + 7*x^3*y^2 - 3*x^2*y^3 + 4*x*y^4 - 4*y^5, 1), (x^5 + 3*x^4*y + 7*x^3*y^2 - 3*x^2*y^3 + 4*x*y^4 - 4*y^5, 2), (x^5 + 3*x^4*y + 7*x^3*y^2 - 3*x^2*y^3 + 4*x*y^4 - 4*y^5, 4), (x^5 + 4*x^4*y + 2*x^3*y^2 - 2*x^2*y^3 - 9*x*y^4 + 3*y^5, 1), (x^5 + 4*x^4*y + 2*x^3*y^2 - 2*x^2*y^3 - 9*x*y^4 + 3*y^5, 3), (x^5 + 4*x^4*y + 2*x^3*y^2 - 2*x^2*y^3 - 9*x*y^4 + 3*y^5, 4), (x^5 - 8*x^4*y + 9*x^3*y^2 + x^2*y^3 + x*y^4 + y^5, 1), (x^5 - 8*x^4*y + 9*x^3*y^2 + x^2*y^3 + x*y^4 + y^5, 5), (x^5 + 7*x^4*y - 8*x^3*y^2 + 8*x^2*y^3 + 3*x*y^4 - y^5, 1), (x^5 + 7*x^4*y - 8*x^3*y^2 + 8*x^2*y^3 + 3*x*y^4 - y^5, 2), (x^5 + 7*x^4*y - 8*x^3*y^2 + 8*x^2*y^3 + 3*x*y^4 - y^5, 4), (x^5 + 7*x^4*y - 8*x^3*y^2 + 8*x^2*y^3 + 3*x*y^4 - y^5, 5), (x^5 - 5*x^4*y + 3*x^3*y^2 + 6*x^2*y^3 - 8*x*y^4 + 7*y^5, 1), (x^5 - 5*x^4*y + 3*x^3*y^2 + 6*x^2*y^3 - 8*x*y^4 + 7*y^5, 3), (x^5 - 5*x^4*y + 3*x^3*y^2 + 6*x^2*y^3 - 8*x*y^4 + 7*y^5, 4)]\n"
     ]
    }
   ],
   "source": [
    "print(L1)"
   ]
  },
  {
   "cell_type": "code",
   "execution_count": 11,
   "metadata": {
    "collapsed": false,
    "scrolled": true
   },
   "outputs": [
    {
     "name": "stdout",
     "output_type": "stream",
     "text": [
      "((x^5 + 6*x^4*y - 5*x^3*y^2 - 6*x^2*y^3 + 8*x*y^4 - 6*y^5, 1), [(1, 0)])\n"
     ]
    },
    {
     "name": "stdout",
     "output_type": "stream",
     "text": [
      "((x^5 + 6*x^4*y - 5*x^3*y^2 - 6*x^2*y^3 + 8*x*y^4 - 6*y^5, 2), [(1, 1)])\n"
     ]
    },
    {
     "name": "stdout",
     "output_type": "stream",
     "text": [
      "((x^5 + 6*x^4*y - 5*x^3*y^2 - 6*x^2*y^3 + 8*x*y^4 - 6*y^5, 3), [])\n"
     ]
    },
    {
     "name": "stdout",
     "output_type": "stream",
     "text": [
      "((x^5 + 6*x^4*y - 5*x^3*y^2 - 6*x^2*y^3 + 8*x*y^4 - 6*y^5, 4), [])\n"
     ]
    },
    {
     "name": "stdout",
     "output_type": "stream",
     "text": [
      "((x^5 + 6*x^4*y - 5*x^3*y^2 - 6*x^2*y^3 + 8*x*y^4 - 6*y^5, 5), [])\n"
     ]
    },
    {
     "name": "stdout",
     "output_type": "stream",
     "text": [
      "((x^5 - 7*x^4*y - 10*x^3*y^2 - 4*x^2*y^3 + 10*x*y^4 + 5*y^5, 1), [(1, 0)])\n"
     ]
    },
    {
     "name": "stdout",
     "output_type": "stream",
     "text": [
      "((x^5 - 7*x^4*y - 10*x^3*y^2 - 4*x^2*y^3 + 10*x*y^4 + 5*y^5, 4), [])\n"
     ]
    },
    {
     "name": "stdout",
     "output_type": "stream",
     "text": [
      "((x^5 - 7*x^4*y - 10*x^3*y^2 - 4*x^2*y^3 + 10*x*y^4 + 5*y^5, 5), [(0, 1), (1, 1)])\n"
     ]
    },
    {
     "name": "stdout",
     "output_type": "stream",
     "text": [
      "((x^5 + 8*x^4*y - 2*x^3*y^2 - 8*x^2*y^3 - 5*x*y^4 + 4*y^5, 1), [(1, 0)])\n"
     ]
    },
    {
     "name": "stdout",
     "output_type": "stream",
     "text": [
      "((x^5 + 8*x^4*y - 2*x^3*y^2 - 8*x^2*y^3 - 5*x*y^4 + 4*y^5, 2), [(1, 1)])\n"
     ]
    },
    {
     "name": "stdout",
     "output_type": "stream",
     "text": [
      "((x^5 + 8*x^4*y - 2*x^3*y^2 - 8*x^2*y^3 - 5*x*y^4 + 4*y^5, 4), [(0, 1)])\n"
     ]
    },
    {
     "name": "stdout",
     "output_type": "stream",
     "text": [
      "((x^5 + 8*x^4*y - 2*x^3*y^2 - 8*x^2*y^3 - 5*x*y^4 + 4*y^5, 5), [])\n"
     ]
    },
    {
     "name": "stdout",
     "output_type": "stream",
     "text": [
      "((x^5 + 5*x^4*y + 4*x^3*y^2 + 5*x^2*y^3 + 7*x*y^4 - 3*y^5, 1), [(1, 0)])\n"
     ]
    },
    {
     "name": "stdout",
     "output_type": "stream",
     "text": [
      "((x^5 + 5*x^4*y + 4*x^3*y^2 + 5*x^2*y^3 + 7*x*y^4 - 3*y^5, 3), [(0, 1)])\n"
     ]
    },
    {
     "name": "stdout",
     "output_type": "stream",
     "text": [
      "((x^5 + 5*x^4*y + 4*x^3*y^2 + 5*x^2*y^3 + 7*x*y^4 - 3*y^5, 5), [(1, 1)])\n"
     ]
    },
    {
     "name": "stdout",
     "output_type": "stream",
     "text": [
      "((x^5 - 10*x^4*y + 6*x^3*y^2 + 2*x^2*y^3 + 2*x*y^4 + 9*y^5, 1), [(1, 0)])\n"
     ]
    }
   ],
   "source": [
    "### solve the equations in L1 using the method of T&W\n",
    "### took about 35 min in total on my laptop\n",
    "### separate in two parts, as now we only have 45 min of free trial\n",
    "\n",
    "L1_sol=[]\n",
    "for i in range(16):                 ### the first half, takes about 15 min\n",
    "    sol=solveTzaWeg(L1[i][0],L1[i][1])\n",
    "    L1_sol.append((L1[i],sol))\n",
    "    print((L1[i],sol))"
   ]
  },
  {
   "cell_type": "code",
   "execution_count": 13,
   "metadata": {
    "collapsed": false
   },
   "outputs": [
    {
     "name": "stdout",
     "output_type": "stream",
     "text": [
      "((x^5 - 10*x^4*y + 6*x^3*y^2 + 2*x^2*y^3 + 2*x*y^4 + 9*y^5, 2), [])\n"
     ]
    },
    {
     "name": "stdout",
     "output_type": "stream",
     "text": [
      "((x^5 - 10*x^4*y + 6*x^3*y^2 + 2*x^2*y^3 + 2*x*y^4 + 9*y^5, 4), [])\n"
     ]
    },
    {
     "name": "stdout",
     "output_type": "stream",
     "text": [
      "((x^5 - 10*x^4*y + 6*x^3*y^2 + 2*x^2*y^3 + 2*x*y^4 + 9*y^5, 5), [])\n"
     ]
    },
    {
     "name": "stdout",
     "output_type": "stream",
     "text": [
      "((x^5 + 3*x^4*y + 7*x^3*y^2 - 3*x^2*y^3 + 4*x*y^4 - 4*y^5, 1), [(1, 0)])\n"
     ]
    },
    {
     "name": "stdout",
     "output_type": "stream",
     "text": [
      "((x^5 + 3*x^4*y + 7*x^3*y^2 - 3*x^2*y^3 + 4*x*y^4 - 4*y^5, 2), [])\n"
     ]
    },
    {
     "name": "stdout",
     "output_type": "stream",
     "text": [
      "((x^5 + 3*x^4*y + 7*x^3*y^2 - 3*x^2*y^3 + 4*x*y^4 - 4*y^5, 4), [(0, 1)])\n"
     ]
    },
    {
     "name": "stdout",
     "output_type": "stream",
     "text": [
      "((x^5 + 4*x^4*y + 2*x^3*y^2 - 2*x^2*y^3 - 9*x*y^4 + 3*y^5, 1), [(1, 0), (1, 1)])\n"
     ]
    },
    {
     "name": "stdout",
     "output_type": "stream",
     "text": [
      "((x^5 + 4*x^4*y + 2*x^3*y^2 - 2*x^2*y^3 - 9*x*y^4 + 3*y^5, 3), [(0, 1)])\n"
     ]
    },
    {
     "name": "stdout",
     "output_type": "stream",
     "text": [
      "((x^5 + 4*x^4*y + 2*x^3*y^2 - 2*x^2*y^3 - 9*x*y^4 + 3*y^5, 4), [])\n"
     ]
    },
    {
     "name": "stdout",
     "output_type": "stream",
     "text": [
      "((x^5 - 8*x^4*y + 9*x^3*y^2 + x^2*y^3 + x*y^4 + y^5, 1), [(0, 1), (1, 0)])\n"
     ]
    },
    {
     "name": "stdout",
     "output_type": "stream",
     "text": [
      "((x^5 - 8*x^4*y + 9*x^3*y^2 + x^2*y^3 + x*y^4 + y^5, 5), [(1, 1)])\n"
     ]
    },
    {
     "name": "stdout",
     "output_type": "stream",
     "text": [
      "((x^5 + 7*x^4*y - 8*x^3*y^2 + 8*x^2*y^3 + 3*x*y^4 - y^5, 1), [(0, 1), (1, 0)])\n"
     ]
    },
    {
     "name": "stdout",
     "output_type": "stream",
     "text": [
      "((x^5 + 7*x^4*y - 8*x^3*y^2 + 8*x^2*y^3 + 3*x*y^4 - y^5, 2), [])\n"
     ]
    },
    {
     "name": "stdout",
     "output_type": "stream",
     "text": [
      "((x^5 + 7*x^4*y - 8*x^3*y^2 + 8*x^2*y^3 + 3*x*y^4 - y^5, 4), [])\n"
     ]
    },
    {
     "name": "stdout",
     "output_type": "stream",
     "text": [
      "((x^5 + 7*x^4*y - 8*x^3*y^2 + 8*x^2*y^3 + 3*x*y^4 - y^5, 5), [])\n"
     ]
    },
    {
     "name": "stdout",
     "output_type": "stream",
     "text": [
      "((x^5 - 5*x^4*y + 3*x^3*y^2 + 6*x^2*y^3 - 8*x*y^4 + 7*y^5, 1), [(1, 0)])\n"
     ]
    },
    {
     "name": "stdout",
     "output_type": "stream",
     "text": [
      "((x^5 - 5*x^4*y + 3*x^3*y^2 + 6*x^2*y^3 - 8*x*y^4 + 7*y^5, 3), [])\n"
     ]
    },
    {
     "name": "stdout",
     "output_type": "stream",
     "text": [
      "((x^5 - 5*x^4*y + 3*x^3*y^2 + 6*x^2*y^3 - 8*x*y^4 + 7*y^5, 4), [(1, 1)])\n"
     ]
    }
   ],
   "source": [
    "L1_sol=[]\n",
    "for i in range(16,len(L1)):                 ### the second half, takes about 20 min\n",
    "    sol=solveTzaWeg(L1[i][0],L1[i][1])\n",
    "    L1_sol.append((L1[i],sol))\n",
    "    print((L1[i],sol))"
   ]
  },
  {
   "cell_type": "code",
   "execution_count": 0,
   "metadata": {
    "collapsed": false
   },
   "outputs": [
   ],
   "source": [
    "###\n",
    "###\n",
    "### "
   ]
  },
  {
   "cell_type": "code",
   "execution_count": 0,
   "metadata": {
    "collapsed": false
   },
   "outputs": [
   ],
   "source": [
    "### Method of Bilu and Hanrot\n",
    "###\n",
    "###"
   ]
  },
  {
   "cell_type": "code",
   "execution_count": 14,
   "metadata": {
    "collapsed": false
   },
   "outputs": [
   ],
   "source": [
    "### Main function, method of B&H\n",
    "### Input :F(x,y), m\n",
    "###      F(x,y) must be monic and irreducible\n",
    "### Output: absolute values of the solution pairs\n",
    "\n",
    "\n",
    "\n",
    "def solveBiluHanrot(F,m):\n",
    "    CC500=ComplexField(500)\n",
    "    ComplexNumber=CC500\n",
    "    PolyRing2.<x,y> = QQ[]\n",
    "    PolyRing1.<x> = QQ[]\n",
    "    poly=PolyRing1(F.subs(y=1))\n",
    "    deg=poly.degree()\n",
    "    K.<theta> = NumberField(poly)\n",
    "    UG = UnitGroup(K)\n",
    "    TU=[u for u in UG.gens_values() if u.multiplicative_order() < +Infinity]\n",
    "    FU=[u for u in UG.gens_values() if u.multiplicative_order() == +Infinity]\n",
    "    rk=len(FU)\n",
    "    thetas=poly.roots(CC,multiplicities=False)\n",
    "    norm_list=K.elements_of_norm(m)\n",
    "    ### Ordering the roots and embeddings so that the real ones are in front, followed by distinct complex ones, then the conjugates \n",
    "    \n",
    "    real_roots=[]\n",
    "    comp_roots=[]\n",
    "    for i in thetas:\n",
    "        if i.is_real() == True:\n",
    "            real_roots.append(i)\n",
    "        else:\n",
    "            comp_roots.append(i)\n",
    "    r1=len(real_roots)\n",
    "    r2=(deg-r1)/2\n",
    "    if r1 < deg:\n",
    "        ordered_roots=[0 for i in range(deg)]\n",
    "    for i in range(r1):\n",
    "        ordered_roots[i]=real_roots[i]\n",
    "    index=r1\n",
    "    for i in range(2*r2):\n",
    "        if comp_roots[i] not in ordered_roots :\n",
    "            ordered_roots[index]=comp_roots[i]\n",
    "            ordered_roots[index+r2]=comp_roots[i].conjugate()\n",
    "            index=index+1\n",
    "    thetas=ordered_roots\n",
    "    from sage.rings.number_field.number_field_morphisms import create_embedding_from_approx\n",
    "    emb=[create_embedding_from_approx(K, thetas[i]) for i in range(deg) ]\n",
    "    \n",
    "    \n",
    "    ### computing c1\n",
    "    M=matrix(RR,deg,deg)\n",
    "    for i in range(deg):\n",
    "        for j in range(deg):\n",
    "            if j < i:\n",
    "                M[i,j] = abs(thetas[i]-thetas[j])\n",
    "            else:\n",
    "                M[i,j] = abs(thetas[i])+abs(thetas[j])\n",
    "    c1=2/min(M.list())\n",
    "    ### Computing c2, c3\n",
    "    ### Might take long time, as there are deg^3 computations\n",
    "    L=[0 for i in range(deg)]\n",
    "    for i in range(deg):\n",
    "        L[i]=max([abs((thetas[i]-thetas[j])/(thetas[i]-thetas[k])) for j in range(deg) for k in range(deg) if j != i if k != j if k != i ])\n",
    "    c2=max(L)\n",
    "    c3=c1*c2\n",
    "    ### Computing c4, c5\n",
    "    MFU = matrix(RR, rk+1, rk, lambda i, j: ln(abs(emb[i](FU[j]).n(prec=50))))   ### Matrix of log of abs of fundamental units\n",
    "    V=[(MFU.delete_rows([i])).inverse() for i in range(rk+1)]    ### Inverse of matrix U_I as in the text\n",
    "    c4=1/(max([V[i].norm(Infinity) for i in range(rk+1)] ))\n",
    "    c5=c4/(deg-0.9)\n",
    "    ### Cases A,B \n",
    "    ### Computing c6, c7 and the corresponding A1,A2\n",
    "    M=matrix(RR,deg,len(norm_list))\n",
    "    for i in range(deg):\n",
    "        for j in range(len(norm_list)):\n",
    "            M[i,j]=( abs( CC(emb[i](norm_list[j]))  ))^(-1)         \n",
    "    c6=max(M.list())\n",
    "    c7=min(M.list())\n",
    "    A1=ln(c6*abs(m))/(c4-(deg-1)*c5)\n",
    "    A1_min=ln(c6*abs(m))/(c4)\n",
    "    A2=ln(c7)/(c4-c5)\n",
    "    ### Case C\n",
    "    ### Computing c8 and an initial bound on A\n",
    "    \n",
    "    \n",
    "    bound_temp=[A1_min,A2,3]\n",
    "    CC100=ComplexField(100)\n",
    "    for i in range(deg):\n",
    "        if thetas[i].is_real() == True:\n",
    "            JK=[j for j in range(deg) if j != 1]\n",
    "            j=JK[deg-2]\n",
    "            k=JK[deg-3]\n",
    "            alpha2=CC100((emb[i](norm_list[0])/emb[j](norm_list[0])))*CC100((emb[i](FU[0])/emb[j](FU[0])))*((thetas[j]-thetas[k])/(thetas[k]-thetas[i]))\n",
    "            units=[]\n",
    "            for ii in range(rk):\n",
    "                units.append((emb[k](FU[ii])/emb[j](FU[ii])))\n",
    "            vector=units\n",
    "            vector.append(alpha2)\n",
    "            heights=HeightMod( vector ,deg)\n",
    "            hm0=abs(ln(-1))\n",
    "            c8=(18*factorial(5)*(4^5)*(256^6)*ln(64)*prod(heights)*hm0)\n",
    "            A_0=RR((2/c5)*( ln(2*c3) +c8*ln(3/2) +c8*ln(c8/c5)  )).ceil()\n",
    "    \n",
    "    \n",
    "            MFU = matrix( CC500, rk+1, rk, lambda i, j: ln( abs(CC500(emb[i](FU[j]))) ) )  \n",
    "            II=[]\n",
    "            for i in range(rk+1):\n",
    "                II.append(  [i,[j for j in range(rk+1) if j!=i]]   )\n",
    "            V=[(MFU.delete_rows([i])).inverse() for i in range(rk+1)]    ### V_I, inverse of matrix U_I as in the text\n",
    "            K.<theta> = NumberField(poly) ### Redefine theta as in the number field, otherwise it's recognised as in the symbolic ring\n",
    "            import numpy\n",
    "            delta=[sum(numpy.abs(V[i].row(j).list())) for i in range(rk+1) for j in range(rk)]\n",
    "            u=norm_list[0]\n",
    "            LL=[[ln( abs_mod(  ((emb[II[i][0]](theta)- emb[j](theta))/emb[j](u)) )   ) for j in II[i][1] ] for i in range(rk+1)]\n",
    "            LV=[(MFU.delete_rows([i])).inverse() for i in range(rk+1)]\n",
    "            for i in range(rk):\n",
    "                for j in range(rk+1):\n",
    "                    LV[j].set_col_to_multiple_of_col(i, i, LL[j][i])\n",
    "            ### Calculating c9, c10, c11, lamdba_k's\n",
    "            lam=[sum(LV[i].row(j)) for i in range(rk+1) for j in range(rk)]\n",
    "            c10=max(abs(delta[0]),abs(delta[1]))\n",
    "            c11=max(((abs(V[0][0,0])+abs(V[0][0,1]))/deg )+abs(lam[0]),  ((abs(V[0][1,0])+abs(V[0][1,1]))/deg )+abs(lam[1]))\n",
    "            c9=max([2^(deg-1)*abs(m)/abs(poly.derivative()(thetas[i])) for i in range(deg)])\n",
    "            M=matrix(CC,deg,deg)\n",
    "            for i in range(deg):\n",
    "                for j in range(deg):\n",
    "                    if j < i:\n",
    "                        M[i,j] = abs(thetas[i]-thetas[j])\n",
    "                    else:\n",
    "                        M[i,j] = abs(thetas[i])+abs(thetas[j])\n",
    "            c1=2/min(M.list())\n",
    "            c14=c1*c9*e^(deg*c11/c10)\n",
    "            c15=deg/c10\n",
    "            c16=c14*(V[0].norm(Infinity))\n",
    "            ### Calculating S_g, T_g\n",
    "            delta_h=max(abs(delta[0]),abs(delta[1]))\n",
    "            h=0\n",
    "            if delta_h in delta == True:\n",
    "                h=delta.index(delta_h)\n",
    "            else:\n",
    "                if -delta_h in delta == True:\n",
    "                    h=delta.index(-delta_h)\n",
    "            if h == 0 :\n",
    "                g=1\n",
    "            else:\n",
    "                g=0\n",
    "            S_g=delta[g]/delta[h]\n",
    "            T_g=(delta[g]*lam[h]-delta[h]*lam[g])/delta[h]\n",
    "            k=50\n",
    "            ### convergent of S_g with the smallest denominator > X0\n",
    "            ### Funtion to find q as in the text, using continued fractions\n",
    "            def cfreduction(S_g,A_0,k):\n",
    "                X0=k*A_0\n",
    "                index=0\n",
    "                c=continued_fraction(S_g)\n",
    "                while abs(c.numerator(index)-(S_g)*(c.denominator(index))) > 1/X0:\n",
    "                    index=index+1\n",
    "                    if c.denominator(index) > X0:\n",
    "                        break\n",
    "                q=c.denominator(index)\n",
    "                return(q,index)\n",
    "            k=50\n",
    "            q=cfreduction(S_g,A_0,k)[0]\n",
    "            index=cfreduction(S_g,A_0,k)[1]\n",
    "            RR500=RealField(500)\n",
    "            dist=min(  RR500(q*(T_g)).ceil()-q*(T_g),  q*(T_g)-RR500(q*(T_g)).floor()  )   ### distance to neareast integer of q*T_g\n",
    "            while dist < 2/k:\n",
    "                k=2*k\n",
    "                q=cfreduction(S_g,A_0,k)\n",
    "                if k > 10000:\n",
    "                    break\n",
    "            new_bound=RR((1/c15)*ln(2*c16*k^2*A_0)).ceil() \n",
    "            bound_temp.append(new_bound)\n",
    "    bound_final=floor(max(bound_temp))\n",
    "    \n",
    "    XY=[]\n",
    "    from itertools import product\n",
    "    per=list(product(range(-bound_final,bound_final+1), repeat=rk))   ### Repeated permutation\n",
    "    for i in range(len(per)):\n",
    "        result1=prod([FU[j]^(per[i][j]) for j in range(rk)])\n",
    "        for k in range(len(norm_list)):\n",
    "            for ii in range(TU[0].multiplicative_order()):\n",
    "                result2=(norm_list[k])*(TU[0]^ii)*result1\n",
    "                P=result2.polynomial(var='t')\n",
    "                if P.degree() <2:\n",
    "                    a0=abs(result2[0])\n",
    "                    a1=abs(result2[1])\n",
    "                    XY.append((a0,a1))\n",
    "    \n",
    "    ### Computing Y2 and loop over all abs(y)<=Y2\n",
    "    min_roots_diff=min([abs(thetas[i]-thetas[j]) for i in range(deg) for j in range(deg) if j!=i])\n",
    "    Y2=RR((((deg+1)*c9)/min_roots_diff)^(1/deg))\n",
    "    Y2=Y2.floor()\n",
    "    for jj in range(-Y2,Y2+1):\n",
    "        poly2=PolyRing1(F.subs(y=jj))\n",
    "        int_roots=poly.roots(ZZ,multiplicities=False)\n",
    "        number1=len(int_roots)\n",
    "        if number1 > 0:\n",
    "            for kk in range(number1):\n",
    "                XY.append((int_roots[kk],jj))\n",
    "    return(sorted(set(XY)))"
   ]
  },
  {
   "cell_type": "code",
   "execution_count": 15,
   "metadata": {
    "collapsed": false
   },
   "outputs": [
    {
     "name": "stdout",
     "output_type": "stream",
     "text": [
      "((x^5 + 6*x^4*y - 5*x^3*y^2 - 6*x^2*y^3 + 8*x*y^4 - 6*y^5, 1), [(1, 0)])\n"
     ]
    },
    {
     "name": "stdout",
     "output_type": "stream",
     "text": [
      "((x^5 + 6*x^4*y - 5*x^3*y^2 - 6*x^2*y^3 + 8*x*y^4 - 6*y^5, 2), [(1, 1)])\n"
     ]
    },
    {
     "name": "stdout",
     "output_type": "stream",
     "text": [
      "((x^5 + 6*x^4*y - 5*x^3*y^2 - 6*x^2*y^3 + 8*x*y^4 - 6*y^5, 3), [])\n"
     ]
    },
    {
     "name": "stdout",
     "output_type": "stream",
     "text": [
      "((x^5 + 6*x^4*y - 5*x^3*y^2 - 6*x^2*y^3 + 8*x*y^4 - 6*y^5, 4), [])\n"
     ]
    },
    {
     "name": "stdout",
     "output_type": "stream",
     "text": [
      "((x^5 + 6*x^4*y - 5*x^3*y^2 - 6*x^2*y^3 + 8*x*y^4 - 6*y^5, 5), [])\n"
     ]
    },
    {
     "name": "stdout",
     "output_type": "stream",
     "text": [
      "((x^5 - 7*x^4*y - 10*x^3*y^2 - 4*x^2*y^3 + 10*x*y^4 + 5*y^5, 1), [(1, 0)])\n"
     ]
    },
    {
     "name": "stdout",
     "output_type": "stream",
     "text": [
      "((x^5 - 7*x^4*y - 10*x^3*y^2 - 4*x^2*y^3 + 10*x*y^4 + 5*y^5, 4), [])\n"
     ]
    },
    {
     "name": "stdout",
     "output_type": "stream",
     "text": [
      "((x^5 - 7*x^4*y - 10*x^3*y^2 - 4*x^2*y^3 + 10*x*y^4 + 5*y^5, 5), [(0, 1), (1, 1)])\n"
     ]
    },
    {
     "name": "stdout",
     "output_type": "stream",
     "text": [
      "((x^5 + 8*x^4*y - 2*x^3*y^2 - 8*x^2*y^3 - 5*x*y^4 + 4*y^5, 1), [(1, 0)])\n"
     ]
    },
    {
     "name": "stdout",
     "output_type": "stream",
     "text": [
      "((x^5 + 8*x^4*y - 2*x^3*y^2 - 8*x^2*y^3 - 5*x*y^4 + 4*y^5, 2), [(1, 1)])\n"
     ]
    },
    {
     "name": "stdout",
     "output_type": "stream",
     "text": [
      "((x^5 + 8*x^4*y - 2*x^3*y^2 - 8*x^2*y^3 - 5*x*y^4 + 4*y^5, 4), [(0, 1)])\n"
     ]
    },
    {
     "name": "stdout",
     "output_type": "stream",
     "text": [
      "((x^5 + 8*x^4*y - 2*x^3*y^2 - 8*x^2*y^3 - 5*x*y^4 + 4*y^5, 5), [])\n"
     ]
    },
    {
     "name": "stdout",
     "output_type": "stream",
     "text": [
      "((x^5 + 5*x^4*y + 4*x^3*y^2 + 5*x^2*y^3 + 7*x*y^4 - 3*y^5, 1), [(1, 0)])\n"
     ]
    },
    {
     "name": "stdout",
     "output_type": "stream",
     "text": [
      "((x^5 + 5*x^4*y + 4*x^3*y^2 + 5*x^2*y^3 + 7*x*y^4 - 3*y^5, 3), [(0, 1)])\n"
     ]
    },
    {
     "name": "stdout",
     "output_type": "stream",
     "text": [
      "((x^5 + 5*x^4*y + 4*x^3*y^2 + 5*x^2*y^3 + 7*x*y^4 - 3*y^5, 5), [(1, 1)])\n"
     ]
    },
    {
     "name": "stdout",
     "output_type": "stream",
     "text": [
      "((x^5 - 10*x^4*y + 6*x^3*y^2 + 2*x^2*y^3 + 2*x*y^4 + 9*y^5, 1), [(1, 0)])\n"
     ]
    },
    {
     "name": "stdout",
     "output_type": "stream",
     "text": [
      "((x^5 - 10*x^4*y + 6*x^3*y^2 + 2*x^2*y^3 + 2*x*y^4 + 9*y^5, 2), [])\n"
     ]
    },
    {
     "name": "stdout",
     "output_type": "stream",
     "text": [
      "((x^5 - 10*x^4*y + 6*x^3*y^2 + 2*x^2*y^3 + 2*x*y^4 + 9*y^5, 4), [])\n"
     ]
    },
    {
     "name": "stdout",
     "output_type": "stream",
     "text": [
      "((x^5 - 10*x^4*y + 6*x^3*y^2 + 2*x^2*y^3 + 2*x*y^4 + 9*y^5, 5), [])\n"
     ]
    },
    {
     "name": "stdout",
     "output_type": "stream",
     "text": [
      "((x^5 + 3*x^4*y + 7*x^3*y^2 - 3*x^2*y^3 + 4*x*y^4 - 4*y^5, 1), [(1, 0)])\n"
     ]
    },
    {
     "name": "stdout",
     "output_type": "stream",
     "text": [
      "((x^5 + 3*x^4*y + 7*x^3*y^2 - 3*x^2*y^3 + 4*x*y^4 - 4*y^5, 2), [])\n"
     ]
    },
    {
     "name": "stdout",
     "output_type": "stream",
     "text": [
      "((x^5 + 3*x^4*y + 7*x^3*y^2 - 3*x^2*y^3 + 4*x*y^4 - 4*y^5, 4), [(0, 1)])\n"
     ]
    },
    {
     "name": "stdout",
     "output_type": "stream",
     "text": [
      "((x^5 + 4*x^4*y + 2*x^3*y^2 - 2*x^2*y^3 - 9*x*y^4 + 3*y^5, 1), [(1, 0), (1, 1)])\n"
     ]
    },
    {
     "name": "stdout",
     "output_type": "stream",
     "text": [
      "((x^5 + 4*x^4*y + 2*x^3*y^2 - 2*x^2*y^3 - 9*x*y^4 + 3*y^5, 3), [(0, 1)])\n"
     ]
    },
    {
     "name": "stdout",
     "output_type": "stream",
     "text": [
      "((x^5 + 4*x^4*y + 2*x^3*y^2 - 2*x^2*y^3 - 9*x*y^4 + 3*y^5, 4), [])\n"
     ]
    },
    {
     "name": "stdout",
     "output_type": "stream",
     "text": [
      "((x^5 - 8*x^4*y + 9*x^3*y^2 + x^2*y^3 + x*y^4 + y^5, 1), [(0, 1), (1, 0)])\n"
     ]
    },
    {
     "name": "stdout",
     "output_type": "stream",
     "text": [
      "((x^5 - 8*x^4*y + 9*x^3*y^2 + x^2*y^3 + x*y^4 + y^5, 5), [(1, 1)])\n"
     ]
    },
    {
     "name": "stdout",
     "output_type": "stream",
     "text": [
      "((x^5 + 7*x^4*y - 8*x^3*y^2 + 8*x^2*y^3 + 3*x*y^4 - y^5, 1), [(0, 1), (1, 0)])\n"
     ]
    },
    {
     "name": "stdout",
     "output_type": "stream",
     "text": [
      "((x^5 + 7*x^4*y - 8*x^3*y^2 + 8*x^2*y^3 + 3*x*y^4 - y^5, 2), [])\n"
     ]
    },
    {
     "name": "stdout",
     "output_type": "stream",
     "text": [
      "((x^5 + 7*x^4*y - 8*x^3*y^2 + 8*x^2*y^3 + 3*x*y^4 - y^5, 4), [])\n"
     ]
    },
    {
     "name": "stdout",
     "output_type": "stream",
     "text": [
      "((x^5 + 7*x^4*y - 8*x^3*y^2 + 8*x^2*y^3 + 3*x*y^4 - y^5, 5), [])\n"
     ]
    },
    {
     "name": "stdout",
     "output_type": "stream",
     "text": [
      "((x^5 - 5*x^4*y + 3*x^3*y^2 + 6*x^2*y^3 - 8*x*y^4 + 7*y^5, 1), [(1, 0)])\n"
     ]
    },
    {
     "name": "stdout",
     "output_type": "stream",
     "text": [
      "((x^5 - 5*x^4*y + 3*x^3*y^2 + 6*x^2*y^3 - 8*x*y^4 + 7*y^5, 3), [])\n"
     ]
    },
    {
     "name": "stdout",
     "output_type": "stream",
     "text": [
      "((x^5 - 5*x^4*y + 3*x^3*y^2 + 6*x^2*y^3 - 8*x*y^4 + 7*y^5, 4), [(1, 1)])\n"
     ]
    }
   ],
   "source": [
    "### solve the equations in L1 using the method of B&H\n",
    "### took about 5 min on my laptop, faster than the method of T&W\n",
    "\n",
    "BH_sol=[]\n",
    "for i in range(len(L1)):\n",
    "    sol=solveBiluHanrot(L1[i][0],L1[i][1])\n",
    "    BH_sol.append((L1[i],sol))\n",
    "    print((L1[i],sol))"
   ]
  },
  {
   "cell_type": "code",
   "execution_count": 0,
   "metadata": {
    "collapsed": false
   },
   "outputs": [
   ],
   "source": [
   ]
  }
 ],
 "metadata": {
  "kernelspec": {
   "argv": [
    "sage-9.8",
    "--python",
    "-m",
    "sage.repl.ipython_kernel",
    "--matplotlib=inline",
    "-f",
    "{connection_file}"
   ],
   "display_name": "SageMath 9.8",
   "env": {
   },
   "language": "sagemath",
   "metadata": {
    "cocalc": {
     "description": "Open-source mathematical software system",
     "priority": 1,
     "url": "https://www.sagemath.org/"
    }
   },
   "name": "sage-9.8",
   "resource_dir": "/ext/jupyter/kernels/sage-9.8"
  },
  "language_info": {
   "codemirror_mode": {
    "name": "ipython",
    "version": 3
   },
   "file_extension": ".py",
   "mimetype": "text/x-python",
   "name": "python",
   "nbconvert_exporter": "python",
   "pygments_lexer": "ipython3",
   "version": "3.11.1"
  }
 },
 "nbformat": 4,
 "nbformat_minor": 4
}
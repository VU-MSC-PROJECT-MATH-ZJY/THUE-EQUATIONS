{
 "cells": [
  {
   "cell_type": "code",
   "execution_count": 21,
   "metadata": {
    "collapsed": false
   },
   "outputs": [
    {
     "name": "stdout",
     "output_type": "stream",
     "text": [
      "Unit group with structure C2 x Z x Z of Number Field in theta with defining polynomial x^5 - 2\n",
      "2\n",
      "[theta^3 + theta^2 - 1, theta - 1]\n",
      "[1/4*2^(1/5)*(sqrt(5) + I*sqrt(2*sqrt(5) + 10) - 1), -1/4*2^(1/5)*(sqrt(5) - I*sqrt(-2*sqrt(5) + 10) + 1), -1/4*2^(1/5)*(sqrt(5) + I*sqrt(-2*sqrt(5) + 10) + 1), 1/4*2^(1/5)*(sqrt(5) - I*sqrt(2*sqrt(5) + 10) - 1), 2^(1/5)]\n",
      "[1]\n",
      "[2^(1/5), 1/4*2^(1/5)*(sqrt(5) + I*sqrt(2*sqrt(5) + 10) - 1), -1/4*2^(1/5)*(sqrt(5) - I*sqrt(-2*sqrt(5) + 10) + 1), 1/4*2^(1/5)*(sqrt(5) - I*sqrt(2*sqrt(5) + 10) - 1), -1/4*2^(1/5)*(sqrt(5) + I*sqrt(-2*sqrt(5) + 10) + 1)]\n",
      "[Generic morphism:\n",
      "  From: Number Field in theta with defining polynomial x^5 - 2\n",
      "  To:   Symbolic Ring\n",
      "  Defn: theta -> 2^(1/5), Generic morphism:\n",
      "  From: Number Field in theta with defining polynomial x^5 - 2\n",
      "  To:   Symbolic Ring\n",
      "  Defn: theta -> 1/4*2^(1/5)*(sqrt(5) + I*sqrt(2*sqrt(5) + 10) - 1), Generic morphism:\n",
      "  From: Number Field in theta with defining polynomial x^5 - 2\n",
      "  To:   Symbolic Ring\n",
      "  Defn: theta -> -1/4*2^(1/5)*(sqrt(5) - I*sqrt(-2*sqrt(5) + 10) + 1), Generic morphism:\n",
      "  From: Number Field in theta with defining polynomial x^5 - 2\n",
      "  To:   Symbolic Ring\n",
      "  Defn: theta -> 1/4*2^(1/5)*(sqrt(5) - I*sqrt(2*sqrt(5) + 10) - 1), Generic morphism:\n",
      "  From: Number Field in theta with defining polynomial x^5 - 2\n",
      "  To:   Symbolic Ring\n",
      "  Defn: theta -> -1/4*2^(1/5)*(sqrt(5) + I*sqrt(-2*sqrt(5) + 10) + 1)]\n"
     ]
    }
   ],
   "source": [
    "### Solving x^5 - 2*y^5 = 1\n",
    "### Method of Tzanakis and Weger\n",
    "\n",
    "\n",
    "m=1\n",
    "x = polygen(ZZ, 'x')\n",
    "poly=x^5 - 2\n",
    "deg=poly.degree()\n",
    "K.<theta> = NumberField(poly)\n",
    "UG = UnitGroup(K)\n",
    "print(UG)\n",
    "FU=[u for u in UG.gens_values() if u.multiplicative_order() == +Infinity]\n",
    "rk=len(FU)\n",
    "print(rk)\n",
    "print(FU)\n",
    "thetas=poly.roots(SR,multiplicities=False)\n",
    "print(thetas)\n",
    "norm_list=K.elements_of_norm(m)\n",
    "print(norm_list)\n",
    "\n",
    "\n",
    "### Ordering the roots and embeddings so that the real ones are in front \n",
    "thetas=[(2^(1/5)),(2^(1/5))*e^((2*I*pi)/5),(2^(1/5))*e^((4*I*pi)/5),(2^(1/5))*e^(-(2*I*pi)/5),(2^(1/5))*e^(-(4*I*pi)/5)]\n",
    "print(thetas)\n",
    "from sage.rings.number_field.number_field_morphisms import create_embedding_from_approx\n",
    "emb=[create_embedding_from_approx(K, thetas[i]) for i in range(deg) ]\n",
    "print(emb)"
   ]
  },
  {
   "cell_type": "code",
   "execution_count": 27,
   "metadata": {
    "collapsed": false
   },
   "outputs": [
    {
     "name": "stdout",
     "output_type": "stream",
     "text": [
      "c1= 1.48106908075834\n"
     ]
    },
    {
     "name": "stdout",
     "output_type": "stream",
     "text": [
      "c2= 1.6180339888\n",
      "c3= 2.3964201124\n",
      "c4= 0.44953561306936024\n",
      "c5= 0.10964283245594153\n"
     ]
    }
   ],
   "source": [
    "### computing c1\n",
    "M=matrix(RR,deg,deg)\n",
    "for i in range(deg):\n",
    "    for j in range(deg):\n",
    "        if j < i:\n",
    "            M[i,j] = abs(thetas[i]-thetas[j])\n",
    "        else:\n",
    "            M[i,j] = abs(thetas[i])+abs(thetas[j])\n",
    "\n",
    "\n",
    "c1=2/min(M.list())\n",
    "print('c1=',c1)\n",
    "\n",
    "\n",
    "### computing c2, c3\n",
    "### might take long time, as there are deg^3 computations\n",
    "L=[0 for i in range(deg)]\n",
    "for i in range(deg):\n",
    "    L[i]=max([abs((thetas[i]-thetas[j])/(thetas[i]-thetas[k])).n(prec=40) for j in range(deg) for k in range(deg) if j != i if k != j if k != i ])\n",
    "c2=max(L)\n",
    "print('c2=',c2)\n",
    "c3=c1*c2\n",
    "print('c3=',c3)\n",
    "\n",
    "\n",
    "### computing c4, c5\n",
    "MFU = matrix(CC, rk+1, rk, lambda i, j: ln(abs(emb[i](FU[j]).n(prec=20))))   ### Matrix of log of abs of fundamental units\n",
    "V=[(MFU.delete_rows([i])).inverse() for i in range(rk+1)]    ### Inverse of matrix U_I as in the text\n",
    "c4=1/(max([V[i].norm(Infinity) for i in range(rk+1)] ))\n",
    "print('c4=',c4)\n",
    "c5=c4/(deg-0.9)\n",
    "print('c5=',c5)"
   ]
  },
  {
   "cell_type": "code",
   "execution_count": 28,
   "metadata": {
    "collapsed": false
   },
   "outputs": [
    {
     "name": "stdout",
     "output_type": "stream",
     "text": [
      "c6= 1.00000000000000\n",
      "c7= 1.00000000000000\n",
      "A1= 0.000000000000000\n",
      "A1_min= 0.000000000000000\n",
      "A2= 0.000000000000000\n"
     ]
    }
   ],
   "source": [
    "### cases A,B \n",
    "### computing c6, c7 and the corresponding A1,A2\n",
    "\n",
    "\n",
    "M=matrix(RR,deg,len(norm_list))\n",
    "for i in range(deg):\n",
    "    for j in range(len(norm_list)):\n",
    "        M[i,j]=abs(emb[i](norm_list[j]).n(prec=20))^(-1)         \n",
    "c6=max(M.list())\n",
    "c7=min(M.list())\n",
    "print('c6=',c6)\n",
    "print('c7=',c7)\n",
    "A1=ln(c6*abs(m))/(c4-(deg-1)*c5)\n",
    "A1_min=ln(c6*abs(m))/(c4)\n",
    "print('A1=',A1)\n",
    "print('A1_min=',A1_min)\n",
    "A2=ln(c7)/(c4-c5)\n",
    "print('A2=',A2)"
   ]
  },
  {
   "cell_type": "code",
   "execution_count": 29,
   "metadata": {
    "collapsed": false
   },
   "outputs": [
   ],
   "source": [
    "### Fucntion of modified height\n",
    "### Input : X, a list of n non-integer elements\n",
    "### Output: the modified heights of each element of X, and the index of [Q(X):Q]\n",
    "\n",
    "def HeightMod(X):\n",
    "    n=len(X)\n",
    "    P=[(X[i]).minpoly() for i in range(n)]\n",
    "    deg_global=(prod(P).splitting_field('x', simplify_all=True).polynomial()).degree()\n",
    "    HM=[max( (P[i]).global_height(),  abs(ln(X[i]))/deg_global,   1/deg_global   )   for i in range(n)]\n",
    "    return(HM,deg_global)"
   ]
  },
  {
   "cell_type": "code",
   "execution_count": 30,
   "metadata": {
    "collapsed": false
   },
   "outputs": [
    {
     "name": "stdout",
     "output_type": "stream",
     "text": [
      "c8=1.238095E+23\n",
      "upper bound on A= 1.260e26\n"
     ]
    }
   ],
   "source": [
    "### Case C\n",
    "### computing c8 and an initial bound on A\n",
    "\n",
    "alpha2=(thetas[0]-thetas[1])/(thetas[2]-thetas[0])\n",
    "unit1=emb[2](FU[0])/emb[1](FU[0])\n",
    "unit2=emb[2](FU[1])/emb[1](FU[1])\n",
    "result=HeightMod( [alpha2,unit1,unit2] )\n",
    "heights=result[0]\n",
    "deg_global=result[1]\n",
    "hm0=max([abs(ln(-1))/deg_global, 1/deg_global])\n",
    "c8=(18*factorial(5)*(4^5)*(256^6)*ln(64)*prod(heights)*hm0)\n",
    "print(\"c8=%E\" %c8)\n",
    "A_0=(2/c5)*( ln(2*c3) +c8*ln(3/2) +c8*ln(c8/c5)  ).n(prec=16)\n",
    "print('upper bound on A=',A_0)"
   ]
  },
  {
   "cell_type": "code",
   "execution_count": 32,
   "metadata": {
    "collapsed": false
   },
   "outputs": [
    {
     "name": "stdout",
     "output_type": "stream",
     "text": [
      "1.38629436111989\n",
      "16.7408871031923\n",
      "13.1168602630084\n",
      "x^4 + 2*x^3 + 4*x^2 + 3*x + 1 x^20 - 20*x^19 + 390*x^18 - 1340*x^17 + 20845*x^16 + 47496*x^15 + 3054760*x^14 + 10721880*x^13 + 6951570*x^12 - 11074960*x^11 - 18641244*x^10 - 11074960*x^9 + 6951570*x^8 + 10721880*x^7 + 3054760*x^6 + 47496*x^5 + 20845*x^4 - 1340*x^3 + 390*x^2 - 20*x + 1 x^20 + 30*x^19 + 340*x^18 + 1710*x^17 + 3045*x^16 - 28004*x^15 + 109360*x^14 - 236220*x^13 + 394170*x^12 - 468060*x^11 + 497256*x^10 - 468060*x^9 + 394170*x^8 - 236220*x^7 + 109360*x^6 - 28004*x^5 + 3045*x^4 + 1710*x^3 + 340*x^2 + 30*x + 1\n"
     ]
    }
   ],
   "source": [
    "p1=alpha2.minpoly()\n",
    "p2=unit1.minpoly()\n",
    "p3=unit2.minpoly()\n",
    "print(p1.global_height())\n",
    "print(p2.global_height())\n",
    "print(p3.global_height())\n",
    "print(p1,p2,p3)"
   ]
  },
  {
   "cell_type": "code",
   "execution_count": 40,
   "metadata": {
    "collapsed": false
   },
   "outputs": [
   ],
   "source": [
    "### Function of the LLL reduction step\n",
    "### Input: alpha_0, ALPHA=(alpha_1,...,alpha_n),Z0,p_1,p_2\n",
    "###      as in the text\n",
    "### Output: the reduced upper bound\n",
    "\n",
    "\n",
    "def LLLReduction(alpha0,ALPHA,Z0,p1,p2):           \n",
    "    from sage.functions.log import logb\n",
    "    C=10^((1.75*logb(Z0, 10).n(prec=40)).ceiling())\n",
    "    n=len(ALPHA)\n",
    "    M=matrix.identity(n)\n",
    "    \n",
    "    for i in range(n):\n",
    "        M[n-2,i]=round(C*real_part(  ALPHA[i]  ).n(prec=40))\n",
    "        M[n-1,i]=round(C*imag_part(  ALPHA[i]  ).n(prec=40))\n",
    "        \n",
    "    Y=zero_vector(n)\n",
    "    Y[n-2]=round(C*real_part(  alpha0  ).n(prec=40))\n",
    "    Y[n-1]=round(C*imag_part(  alpha0  ).n(prec=40))\n",
    "    M=M.T\n",
    "    MLLL=(M.LLL())\n",
    "    MLLL=MLLL.T\n",
    "    GS1,GS2=(MLLL).gram_schmidt()\n",
    "    cc1=max([norm(MLLL.column(0))^2/ norm(GS1.column(i))^2 for i in range(n)])\n",
    "    \n",
    "    \n",
    "    sigma=(MLLL).inverse()*Y\n",
    "    sigma_dist_vec=[min([sigma[i]-floor(sigma[i]),ceil(sigma[i])-sigma[i]]) for i in range(n)]\n",
    "    sigma_dist_vec=[x for x in sigma_dist_vec if x!= 0]\n",
    "    sigma_dist=sigma_dist_vec[len(sigma_dist_vec)-1]\n",
    "    \n",
    "    L=cc1^(-1)*sigma_dist*norm(MLLL.column(0))^2\n",
    "    SS=(n-2)*(Z0)^2\n",
    "    TT=(1+n*Z0)/sqrt(2)\n",
    "    \n",
    "    upper_bound=floor(abs((1/p2)*(ln(C*p1)-ln(sqrt(L^2-SS)-TT) )))\n",
    "    return(upper_bound)"
   ]
  },
  {
   "cell_type": "code",
   "execution_count": 41,
   "metadata": {
    "collapsed": false
   },
   "outputs": [
    {
     "data": {
      "text/plain": [
       "374"
      ]
     },
     "execution_count": 41,
     "metadata": {
     },
     "output_type": "execute_result"
    }
   ],
   "source": [
    "alpha0=ln(-alpha2)\n",
    "ALPHA=[unit1,unit2,2*pi*sqrt(-1)]\n",
    "Z0=A_0\n",
    "p1=2*c3\n",
    "p2=c5\n",
    "LLLReduction(alpha0,ALPHA,Z0,p1,p2)"
   ]
  },
  {
   "cell_type": "code",
   "execution_count": 35,
   "metadata": {
    "collapsed": false
   },
   "outputs": [
    {
     "name": "stdout",
     "output_type": "stream",
     "text": [
      "374\n"
     ]
    },
    {
     "name": "stdout",
     "output_type": "stream",
     "text": [
      "21\n",
      "[(1, 0), (1, 1)]\n"
     ]
    }
   ],
   "source": [
    "### Reduce the bound after two rounds of LLL\n",
    "\n",
    "alpha0=ln(-alpha2)\n",
    "ALPHA=[unit1,unit2,2*pi*sqrt(-1)]\n",
    "Z0=A_0\n",
    "p1=2*c3\n",
    "p2=c5\n",
    "bound1=LLLReduction(alpha0,ALPHA,Z0,p1,p2)\n",
    "print(bound1)\n",
    "if bound1 >=50:\n",
    "    bound2=LLLReduction(alpha0,ALPHA,bound1,p1,p2)\n",
    "else:\n",
    "    bound2=bound1\n",
    "print(bound2)\n",
    "XY=[]\n",
    "for i in range(-bound2,bound2):\n",
    "    for j in range(-bound2,bound2):\n",
    "        for k in range(len(norm_list)):\n",
    "            result=(norm_list[k])*(FU[0]^i)*(FU[1]^j)\n",
    "            P=result.polynomial(var='t')\n",
    "            if P.degree() <2:\n",
    "                a0=abs(result[0])\n",
    "                a1=abs(result[1])\n",
    "                XY.append((a0,a1))\n",
    "print(sorted(set(XY)))"
   ]
  },
  {
   "cell_type": "code",
   "execution_count": 0,
   "metadata": {
    "collapsed": false
   },
   "outputs": [
   ],
   "source": [
    "############\n",
    "############\n",
    "############"
   ]
  },
  {
   "cell_type": "code",
   "execution_count": 7,
   "metadata": {
    "collapsed": false
   },
   "outputs": [
    {
     "name": "stdout",
     "output_type": "stream",
     "text": [
      "[0.607166804969287243111216210942423429745767613669124828345498426234005680555640965563537466488382923837481269287694073588696895129859205134138535756335 -1.90583548813918861720241094731814479326955200520550104131253856654035214674360819543454132117215979160319148388914283285425952176047170158892277432330]\n",
      "[ 1.19263777924128032831303931656542909914629876094995361237142508681628239104248931827227055635282384058744701448613723425492645657993813028251600520667 0.237984551611593668794698352463099882507971955293442026401155232195241999234952925912623075765162016196182395431324093164537403109593983952674604788989]\n",
      "[-1.49622118172592394986864742203664081401918256778451602654417429993328523132030980105403928959701530250618764912998427104927490414486773284958527308483 0.714933192458000639806507121195972514126804047309308494255114051074934074136851171804647584820917879605413346513247323262592357770641866841786782372663]\n",
      "[[0, [1, 2]], [1, [0, 2]], [2, [0, 1]]]\n",
      "[[ 0.591472792259502461213258449412533146931990973700292234252914243789278921227005282588180424765582513159304245741828755054389954686042678315921506577113 -0.196887469684244841495899363645775562038927567687358218345714657300006324942189256743195416843485251964008172048486920608520550967654392160043287704381]\n",
      "[  1.23784170259409693880668464194278960100650460890181959307998268707949183377425469176505072405988521586351001645566247887709469909143108754019976430937  0.986683517961648189888555242808946513566861578627753918149029512142832283662089344615425104378287309465190102682183116070775978922273525331382861862519], [-0.295736396129751230606629224706266573465995486850146117126457121894639460613502641294090212382791256579652122870914377527194977343021339157960753288557 -0.788360261943747302709157813058308708970918541387650452598628901089285246169194539331375841609067765123312417790315675662910505653697070475964794281494]\n",
      "[-0.618920851297048469403342320971394800503252304450909796539991343539745916887127345882525362029942607931755008227831239438547349545715543770099882154686 -0.251158184632448748918129399133843087439643030274065674930953174936659550112165347149625619681597906398319913773479362806318720169157562208816902446853], [0.0984437348421224207479496818228877810194637838436791091728573286500031624710946283715977084217426259820040860242434603042602754838271960800216438521903  0.788360261943747302709157813058308708970918541387650452598628901089285246169194539331375841609067765123312417790315675662910505653697070475964794281494]\n",
      "[-0.493341758980824094944277621404473256783430789313876959074514756071416141831044672307712552189143654732595051341091558035387989461136762665691430931259  0.251158184632448748918129399133843087439643030274065674930953174936659550112165347149625619681597906398319913773479362806318720169157562208816902446853]]\n"
     ]
    }
   ],
   "source": [
    "### Method of Bilu and Hanrot\n",
    "\n",
    "\n",
    "CC500=ComplexField(500)\n",
    "ComplexNumber=CC500\n",
    "m=1\n",
    "x = polygen(ZZ, 'x')\n",
    "poly=x^5 - 2\n",
    "deg=poly.degree()\n",
    "\n",
    "K.<theta> = NumberField(poly) \n",
    "UG = UnitGroup(K)\n",
    "\n",
    "FU=[u for u in UG.gens_values() if u.multiplicative_order() == +Infinity]\n",
    "rk=len(FU)\n",
    "thetas=poly.roots(SR,multiplicities=False)\n",
    "\n",
    "norm_list=K.elements_of_norm(m)\n",
    "\n",
    "\n",
    "### Ordering the roots and embeddings so that the real ones are in front, followed by distinct complex ones, then the conjugates \n",
    "    \n",
    "real_roots=[]\n",
    "comp_roots=[]\n",
    "for i in thetas:\n",
    "    if i.is_real() == True:\n",
    "        real_roots.append(i)\n",
    "    else:\n",
    "        comp_roots.append(i)\n",
    "r1=len(real_roots)\n",
    "r2=(deg-r1)/2\n",
    "if r1 < deg:\n",
    "    ordered_roots=[0 for i in range(deg)]\n",
    "for i in range(r1):\n",
    "    ordered_roots[i]=real_roots[i]\n",
    "index=r1\n",
    "for i in range(2*r2):\n",
    "    if comp_roots[i] not in ordered_roots :\n",
    "        ordered_roots[index]=comp_roots[i]\n",
    "        ordered_roots[index+r2]=comp_roots[i].conjugate()\n",
    "        index=index+1\n",
    "thetas=ordered_roots\n",
    "\n",
    "from sage.rings.number_field.number_field_morphisms import create_embedding_from_approx\n",
    "emb=[create_embedding_from_approx(K, thetas[i]) for i in range(deg) ]\n",
    "\n",
    "MFU = matrix( CC500, rk+1, rk, lambda i, j: ln( abs(emb[i](FU[j])) ) )   ### Matrix of log of abs of fundamental units, we need high precision\n",
    "print(MFU)\n",
    "\n",
    "II=[]\n",
    "for i in range(rk+1):\n",
    "    II.append(  [i,[j for j in range(rk+1) if j!=i]]   )\n",
    "    \n",
    "print(II)\n",
    "V=[(MFU.delete_rows([i])).inverse() for i in range(rk+1)]    ### V_I, inverse of matrix U_I as in the text\n",
    "print(V)"
   ]
  },
  {
   "cell_type": "code",
   "execution_count": 11,
   "metadata": {
    "collapsed": false
   },
   "outputs": [
    {
     "name": "stdout",
     "output_type": "stream",
     "text": [
      "[Generic morphism:\n",
      "  From: Number Field in theta with defining polynomial x^5 - 2\n",
      "  To:   Symbolic Ring\n",
      "  Defn: theta -> 2^(1/5), Generic morphism:\n",
      "  From: Number Field in theta with defining polynomial x^5 - 2\n",
      "  To:   Symbolic Ring\n",
      "  Defn: theta -> 1/4*2^(1/5)*(sqrt(5) + I*sqrt(2*sqrt(5) + 10) - 1), Generic morphism:\n",
      "  From: Number Field in theta with defining polynomial x^5 - 2\n",
      "  To:   Symbolic Ring\n",
      "  Defn: theta -> -1/4*2^(1/5)*(sqrt(5) - I*sqrt(-2*sqrt(5) + 10) + 1), Generic morphism:\n",
      "  From: Number Field in theta with defining polynomial x^5 - 2\n",
      "  To:   Symbolic Ring\n",
      "  Defn: theta -> 1/4*2^(1/5)*(sqrt(5) - I*sqrt(2*sqrt(5) + 10) - 1), Generic morphism:\n",
      "  From: Number Field in theta with defining polynomial x^5 - 2\n",
      "  To:   Symbolic Ring\n",
      "  Defn: theta -> -1/4*2^(1/5)*(sqrt(5) + I*conjugate(sqrt(-2*sqrt(5) + 10)) + 1)]\n"
     ]
    }
   ],
   "source": [
    "print(emb)"
   ]
  },
  {
   "cell_type": "code",
   "execution_count": 12,
   "metadata": {
    "collapsed": false
   },
   "outputs": [
    {
     "name": "stdout",
     "output_type": "stream",
     "text": [
      "[0.788360261943747302709157813058308708970918541387650452598628901089285246169194539331375841609067765123312417790315675662910505653697070475964794281494, 2.22452522055574512869523988475173611457336618752957351122901219922232411743634403638047582843817252532870011913784559494787067801370461287158262617189, 1.08409665807349853331578703776457528243691402823779656972508602298392470678269718062546605399185902170296454066123005319010548299671840963392554757005, 0.870079035929497218321471720105237887942895334724975471470944518476405466999292693032150981711540514330074922001310602244866069714873105978916784601539, 0.886803996785869723457107494881196489990382325231329561771486229739288408640289167702973550030810391105316503814559135967170781137524266555986438133684, 0.744499943613272843862407020538316344223073819587942634005467931008075691943210019457338171870741561130914965114570920841706709630294324874508333378113]\n",
      "[[log(abs(-1/4*2^(1/5)*(sqrt(5) + I*sqrt(2*sqrt(5) + 10) - 1) + 2^(1/5))), log(abs(1/4*2^(1/5)*(sqrt(5) - I*sqrt(-2*sqrt(5) + 10) + 1) + 2^(1/5)))], [log(abs(1/4*2^(1/5)*(sqrt(5) + I*sqrt(2*sqrt(5) + 10) - 1) - 2^(1/5))), log(abs(1/4*2^(1/5)*(sqrt(5) + I*sqrt(2*sqrt(5) + 10) - 1) + 1/4*2^(1/5)*(sqrt(5) - I*sqrt(-2*sqrt(5) + 10) + 1)))], [log(abs(-1/4*2^(1/5)*(sqrt(5) - I*sqrt(-2*sqrt(5) + 10) + 1) - 2^(1/5))), log(abs(-1/4*2^(1/5)*(sqrt(5) + I*sqrt(2*sqrt(5) + 10) - 1) - 1/4*2^(1/5)*(sqrt(5) - I*sqrt(-2*sqrt(5) + 10) + 1)))]]\n",
      "[[ 0.177668372757296530742205898122911985818226803958486791295037441832197831839125143585552870195452121268389263104285254545269373737899773219736348914826 -0.153886227757165416766228867677047129997008033451486705875261437755699224015603105907588370984433364909604780959892004191448501246991026479026134403443]\n",
      "[ 0.371826606243156975927017688991229498917389635189940476027249900947064973743650339663096379928384740471870520679472062433100275289617276196608058970080  0.771186733278626603002120243154836849552277973147500733778885381425784025683676301805602529534097921874935761519468679150927064930874870263142143179887], [-0.0888341863786482653711029490614559929091134019792433956475187209160989159195625717927764350977260606341946315521426272726346868689498866098681744574133  -0.236810021896339141623065815881609575053851516959092100490667179051824433522471618718878508541165289391353033156545662350314807872157225535771238367849]\n",
      "[ -0.185913303121578487963508844495614749458694817594970238013624950473532486871825169831548189964192370235935260339736031216550137644808638098304029485040 -0.0754436493990851176488468225547956731455493767132897596876714608777090377658903203870092616726239684176179685948800617719745457387846009630141554336540], [0.0769431138785827083831144338385235649985040167257433529376307188778496120078015529537941854922166824548023904799460020957242506234955132395130672017214  0.236810021896339141623065815881609575053851516959092100490667179051824433522471618718878508541165289391353033156545662350314807872157225535771238367849]\n",
      "[-0.385593366639313301501060121577418424776138986573750366889442690712892012841838150902801264767048960937467880759734339575463532465437435131571071589943 0.0754436493990851176488468225547956731455493767132897596876714608777090377658903203870092616726239684176179685948800617719745457387846009630141554336540]]\n"
     ]
    }
   ],
   "source": [
    "K.<theta> = NumberField(poly) ### Redefine theta as in the number field, otherwise it's recognised as in the symbolic ring\n",
    "\n",
    "import numpy\n",
    "\n",
    "delta=[sum(numpy.abs(V[i].row(j).list())) for i in range(rk+1) for j in range(rk)]\n",
    "print(delta)\n",
    "\n",
    "u=norm_list[0]\n",
    "LL=[[ln( abs(  ((emb[II[i][0]](theta)- emb[j](theta))/emb[j](u)) )   ) for j in II[i][1] ] for i in range(rk+1)]\n",
    "\n",
    "print(LL)\n",
    "\n",
    "LV=[(MFU.delete_rows([i])).inverse() for i in range(rk+1)]\n",
    "for i in range(rk):\n",
    "    for j in range(rk+1):\n",
    "        LV[j].set_col_to_multiple_of_col(i, i, LL[j][i])\n",
    "\n",
    "print(LV)"
   ]
  },
  {
   "cell_type": "code",
   "execution_count": 13,
   "metadata": {
    "collapsed": false
   },
   "outputs": [
    {
     "name": "stdout",
     "output_type": "stream",
     "text": [
      "[0.0237821450001311139759770304458648558212187705070000854197760040764986078235220376779644992110187563587844821443932503538208724909087467407102145113836, 1.14301333952178357892913793214606634846966760833744120980613528237284899942732664146869890946248266234680628219894074158402734022049214645975020214997, -0.325644208274987406994168764943065567962964918938335496138185899967923349442034190511654943638891350025547664708688289622949494741107112145639412825262, -0.261356952520663605612355667050410422604244194308259997701296411351241524637715490218557451636816338653553228934616092988524683383593239061318184918694, 0.313753135774921850006180249720133140052355533684835453428297897929674045530273171672672694033381971846155423636491664446039058495652738775284305569571, -0.310149717240228183852213299022622751630589609860460607201771229835182975075947830515792003094424992519849912164854277803488986726652834168556916156289]\n"
     ]
    },
    {
     "name": "stdout",
     "output_type": "stream",
     "text": [
      "c9= 8/5*2^(1/5)\n",
      "c10= 2.22452522055574512869523988475173611457336618752957351122901219922232411743634403638047582843817252532870011913784559494787067801370461287158262617189\n",
      "c11= 1.58791838363293260466818590909641357138434084584335591205193772221731382291459544874479407515011716741254630602650986057360147582323306903406672738435\n",
      "1.48106908075834\n",
      "c14= 84.0898036659179*2^(1/5)\n",
      "c15= 2.24767062822999507168986409914195677945661690758690190274621771243750846714061155716423563798984866098303641038167752963093661865529375335626054837386\n"
     ]
    },
    {
     "name": "stdout",
     "output_type": "stream",
     "text": [
      "c16= 187.059889046415*2^(1/5)\n"
     ]
    }
   ],
   "source": [
    "### Calculating c9, c10, c11, lamdba_k's\n",
    "\n",
    "lam=[sum(LV[i].row(j)) for i in range(rk+1) for j in range(rk)]\n",
    "print(lam)\n",
    "c10=max(abs(delta[0]),abs(delta[1]))\n",
    "c11=max(((abs(V[0][0,0])+abs(V[0][0,1]))/deg )+abs(lam[0]),  ((abs(V[0][1,0])+abs(V[0][1,1]))/deg )+abs(lam[1]))\n",
    "c9=max([2^(deg-1)*abs(m)/abs(poly.derivative()(thetas[i])) for i in range(deg)])\n",
    "print('c9=',c9)\n",
    "print('c10=',c10)\n",
    "print('c11=',c11)\n",
    "\n",
    "M=matrix(CC,deg,deg)\n",
    "for i in range(deg):\n",
    "    for j in range(deg):\n",
    "        if j < i:\n",
    "            M[i,j] = abs(thetas[i]-thetas[j])\n",
    "        else:\n",
    "            M[i,j] = abs(thetas[i])+abs(thetas[j])\n",
    "\n",
    "\n",
    "c1=2/min(M.list())\n",
    "\n",
    "print(c1)\n",
    "c14=c1*c9*e^(deg*c11/c10)\n",
    "c15=deg/c10\n",
    "print('c14=',c14)\n",
    "print('c15=',c15)\n",
    "c16=c14*(V[0].norm(Infinity))\n",
    "print('c16=',c16)"
   ]
  },
  {
   "cell_type": "code",
   "execution_count": 14,
   "metadata": {
    "collapsed": false
   },
   "outputs": [
    {
     "name": "stdout",
     "output_type": "stream",
     "text": [
      "delta_h= 2.22452522055574512869523988475173611457336618752957351122901219922232411743634403638047582843817252532870011913784559494787067801370461287158262617189\n",
      "S_g= 2.82171150416822253755517409498274983772517800074424393303623874195800650558491334580466104615797012574145682678823701610235349949294168228702195408962\n",
      "T_g= -1.07590698738111684033436121354433990223184431784600043217625207888247016827258044570465813192930327787896958010105425226162090854459422938261774719385\n"
     ]
    }
   ],
   "source": [
    "### Calculating S_g, T_g\n",
    "\n",
    "delta_h=max(abs(delta[0]),abs(delta[1]))\n",
    "print('delta_h=',delta_h)\n",
    "h=0\n",
    "if delta_h in delta == True:\n",
    "    h=delta.index(delta_h)\n",
    "else:\n",
    "    if -delta_h in delta == True:\n",
    "        h=delta.index(-delta_h)\n",
    "    \n",
    "if h == 0 :\n",
    "    g=1\n",
    "else:\n",
    "    g=0\n",
    "    \n",
    "S_g=delta[g]/delta[h]\n",
    "T_g=(delta[g]*lam[h]-delta[h]*lam[g])/delta[h]\n",
    "\n",
    "print('S_g=',S_g)\n",
    "print('T_g=',T_g)"
   ]
  },
  {
   "cell_type": "code",
   "execution_count": 17,
   "metadata": {
    "collapsed": false
   },
   "outputs": [
    {
     "name": "stdout",
     "output_type": "stream",
     "text": [
      "1211146255498931339729838419\n",
      "66\n"
     ]
    }
   ],
   "source": [
    "### Funtion to find q as in the text, using continued fractions\n",
    "def cfreduction(S_g,A_0,k):\n",
    "    X0=k*A_0\n",
    "    index=0\n",
    "    c=continued_fraction(S_g)\n",
    "    while abs(c.numerator(index)-(S_g)*(c.denominator(index))) > 1/X0:\n",
    "        index=index+1\n",
    "        if c.denominator(index) > X0:\n",
    "            break\n",
    "    q=c.denominator(index)\n",
    "    return(q,index)\n",
    "A_0=1.26*10^26\n",
    "k=50\n",
    "q=cfreduction(S_g,A_0,k)[0]\n",
    "index=cfreduction(S_g,A_0,k)[1]\n",
    "print(q)\n",
    "print(index)"
   ]
  },
  {
   "cell_type": "code",
   "execution_count": 19,
   "metadata": {
    "collapsed": false
   },
   "outputs": [
    {
     "name": "stdout",
     "output_type": "stream",
     "text": [
      "3417505322371599917472294776\n",
      "6.58304222175076929910984040102074138477050509484554751257593033252623547102162616180949096398466041314727272802076791727171219158922946944052216417535e-29\n"
     ]
    }
   ],
   "source": [
    "print(continued_fraction(S_g).numerator(index))\n",
    "print(abs(continued_fraction(S_g).numerator(index)-(S_g)*(continued_fraction(S_g).denominator(index))))"
   ]
  },
  {
   "cell_type": "code",
   "execution_count": 21,
   "metadata": {
    "collapsed": false
   },
   "outputs": [
    {
     "name": "stdout",
     "output_type": "stream",
     "text": [
      "33\n"
     ]
    }
   ],
   "source": [
    "RR500=RealField(500)\n",
    "dist=min(  RR500(q*(T_g)).ceil()-q*(T_g),  q*(T_g)-RR500(q*(T_g)).floor()  )   ### distance to neareast integer of q*T_g\n",
    "while dist < 2/k:\n",
    "    k=2*k\n",
    "    q=cfreduction(S_g,A_0,k)\n",
    "    if k > 10000:\n",
    "        break\n",
    "new_bound=RR((1/c15)*ln(2*c16*k^2*A_0)).ceil() \n",
    "print(new_bound)"
   ]
  },
  {
   "cell_type": "code",
   "execution_count": 24,
   "metadata": {
    "collapsed": false
   },
   "outputs": [
    {
     "name": "stdout",
     "output_type": "stream",
     "text": [
      "0.273758137777587549938001315255400374914397095936247362717733274271162456393532680089666124182720971303935604674232035042560581620662805448199780705143\n"
     ]
    }
   ],
   "source": [
    "print(dist)"
   ]
  },
  {
   "cell_type": "code",
   "execution_count": 25,
   "metadata": {
    "collapsed": false
   },
   "outputs": [
    {
     "name": "stdout",
     "output_type": "stream",
     "text": [
      "[(1, 0), (1, 1)]\n"
     ]
    }
   ],
   "source": [
    "XY=[]\n",
    "for i in range(-new_bound,new_bound):\n",
    "    for j in range(-new_bound,new_bound):\n",
    "        for k in range(len(norm_list)):\n",
    "            result=(norm_list[k])*(FU[0]^i)*(FU[1]^j)\n",
    "            P=result.polynomial(var='t')\n",
    "            if P.degree() <2:\n",
    "                a0=abs(result[0])\n",
    "                a1=abs(result[1])\n",
    "                XY.append((a0,a1))\n",
    "print(sorted(set(XY)))"
   ]
  },
  {
   "cell_type": "code",
   "execution_count": 0,
   "metadata": {
    "collapsed": false
   },
   "outputs": [
   ],
   "source": [
   ]
  },
  {
   "cell_type": "code",
   "execution_count": 0,
   "metadata": {
    "collapsed": false
   },
   "outputs": [
   ],
   "source": [
   ]
  }
 ],
 "metadata": {
  "kernelspec": {
   "argv": [
    "sage-9.8",
    "--python",
    "-m",
    "sage.repl.ipython_kernel",
    "--matplotlib=inline",
    "-f",
    "{connection_file}"
   ],
   "display_name": "SageMath 9.8",
   "env": {
   },
   "language": "sagemath",
   "metadata": {
    "cocalc": {
     "description": "Open-source mathematical software system",
     "priority": 1,
     "url": "https://www.sagemath.org/"
    }
   },
   "name": "sage-9.8",
   "resource_dir": "/ext/jupyter/kernels/sage-9.8"
  },
  "language_info": {
   "codemirror_mode": {
    "name": "ipython",
    "version": 3
   },
   "file_extension": ".py",
   "mimetype": "text/x-python",
   "name": "python",
   "nbconvert_exporter": "python",
   "pygments_lexer": "ipython3",
   "version": "3.11.1"
  }
 },
 "nbformat": 4,
 "nbformat_minor": 4
}
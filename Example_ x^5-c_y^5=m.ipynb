{
 "cells": [
  {
   "cell_type": "code",
   "execution_count": 3,
   "metadata": {
    "collapsed": false
   },
   "outputs": [
   ],
   "source": [
    "### x^5-c*y^5=m"
   ]
  },
  {
   "cell_type": "code",
   "execution_count": 7,
   "metadata": {
    "collapsed": false
   },
   "outputs": [
   ],
   "source": [
    "### Using modular arithmetic to check the unsolvability in integers of the equation\n",
    "### Input: b1,b2,b3, \n",
    "###      0<c<b1, 0<abs(m)<b2, and 0<b3 is an indicator of total number of primes considered. Recomend set 2<=b3<=3 first.\n",
    "### Output: 1 means x^5 - c*y^5 = m is not solvable in integers, 0 means unable to determine or x^5 - c is reducible\n",
    "\n",
    "def reduction(b1,b2,b3):\n",
    "    for c in range(1,b1+1):\n",
    "        for m in range(-b2,b2+1):\n",
    "            x = polygen(ZZ, 'x')\n",
    "            poly=x^5 - c\n",
    "            if poly.is_irreducible() == True:\n",
    "                div=prime_range(max(c^b3,m^b3))   # larger b3 is, (possibly) more results obtained, but more time needed\n",
    "                div_c=prime_factors(c)\n",
    "                for i in range(len(div)):\n",
    "                    FF=GF(div[i])\n",
    "                    if div[i] in div_c == True:\n",
    "                        list=[FF(x^5-m) for x in range(  div[i]  ) ]\n",
    "                        if prod(list)!=0:\n",
    "                            return(1)\n",
    "                        break\n",
    "                    else:\n",
    "                        S1=Set([FF(x^5) for x in range(  div[i]  )  ] )\n",
    "                        S2=Set([FF(c*y^5+m) for y in range(  div[i]  )  ]  )\n",
    "                        card=S1.intersection(S2).cardinality()\n",
    "                        if card == 0:\n",
    "                            return(1)\n",
    "                        break\n",
    "                else:\n",
    "                    return(0)\n",
    "            else:\n",
    "                return(0)\n"
   ]
  },
  {
   "cell_type": "code",
   "execution_count": 8,
   "metadata": {
    "collapsed": false
   },
   "outputs": [
   ],
   "source": [
    "### Further sovability check by looking at the norm list\n",
    "### Input: c,m\n",
    "### Output: 1 means maybe solvable, 0 means not solvable or the polynomial x^5-c is reducible\n",
    "\n",
    "\n",
    "\n",
    "def NormCheck(c,m):\n",
    "    x = polygen(ZZ, 'x')\n",
    "    poly=x^5 - c\n",
    "    if poly.is_irreducible() == True:\n",
    "        K.<theta> = NumberField(poly)\n",
    "        norm_list=K.elements_of_norm(m)\n",
    "        if len(norm_list)>0:\n",
    "            return(1)\n",
    "        else:\n",
    "            return(0)\n",
    "    else:\n",
    "        return(0)"
   ]
  },
  {
   "cell_type": "code",
   "execution_count": 9,
   "metadata": {
    "collapsed": false
   },
   "outputs": [
   ],
   "source": [
    "### Fucntion of modified height, using the approximation with algdep\n",
    "### Input : X, a list of n non-integer elements; d, the degree of F(x,y)\n",
    "### Output: the modified heights of each element of X, and the index of [Q(X):Q]\n",
    "\n",
    "def HeightMod(X,d):\n",
    "    n=len(X)\n",
    "    deg=factorial(d)\n",
    "    P=[CC(X[i]).algdep(deg) for i in range(n)]\n",
    "    HM=[max( (P[i]).global_height(),  ln(abs(CC(X[i]))),   1   )   for i in range(n)]\n",
    "    return(HM)\n",
    "\n",
    "### Outputs the absolute value of elements as considered in complex numbers\n",
    "### Prvents \"bad operand type\" error in some cases\n",
    "\n",
    "def abs_mod(x):\n",
    "    return(abs(CC(x)))"
   ]
  },
  {
   "cell_type": "code",
   "execution_count": 10,
   "metadata": {
    "collapsed": false
   },
   "outputs": [
   ],
   "source": [
    "### Function of the LLL reduction step\n",
    "### Input: alpha_0, ALPHA=(alpha_1,...,alpha_n),Z0,p_1,p_2\n",
    "###      as in the text\n",
    "### Output: the reduced upper bound\n",
    "\n",
    "\n",
    "def LLLReduction(alpha0,ALPHA,Z0,p1,p2):           \n",
    "    from sage.functions.log import logb\n",
    "    C=10^((1.75*logb(Z0, 10).n(prec=40)).ceiling())\n",
    "    n=len(ALPHA)\n",
    "    M=matrix.identity(n)\n",
    "    for i in range(n):\n",
    "        M[n-2,i]=max( round(C*real_part(  CC(ALPHA[i]).n(prec=50)  )),1 ) \n",
    "        M[n-1,i]=max( round(C*imag_part(  CC(ALPHA[i]).n(prec=50)  )),1 )\n",
    "    Y=zero_vector(n)\n",
    "    Y[n-2]=round(C*real_part(  CC(alpha0)  ).n(prec=40))\n",
    "    Y[n-1]=round(C*imag_part(  CC(alpha0)  ).n(prec=40))\n",
    "    M=M.T\n",
    "    MLLL=(M.LLL())\n",
    "    MLLL=MLLL.T\n",
    "    GS1,GS2=(MLLL).gram_schmidt()\n",
    "    cc1=max([norm(MLLL.column(0))^2/ norm(GS1.column(i))^2 for i in range(n)])\n",
    "    sigma=(MLLL).inverse()*Y\n",
    "    sigma_dist_vec=[min([sigma[i]-floor(sigma[i]),ceil(sigma[i])-sigma[i]]) for i in range(n)]\n",
    "    sigma_dist_vec=[x for x in sigma_dist_vec if x!= 0]\n",
    "    sigma_dist=sigma_dist_vec[len(sigma_dist_vec)-1]\n",
    "    L=cc1^(-1)*sigma_dist*norm(MLLL.column(0))^2\n",
    "    SS=(n-2)*(Z0)^2\n",
    "    TT=(1+n*Z0)/sqrt(2)\n",
    "    upper_bound=floor(abs((1/p2)*(ln(C*p1)-ln(sqrt(L^2-SS)-TT) )))\n",
    "    return(upper_bound)"
   ]
  },
  {
   "cell_type": "code",
   "execution_count": 11,
   "metadata": {
    "collapsed": false
   },
   "outputs": [
   ],
   "source": [
    "### Brute search of integer solution pair (x,y) of x^5-c*y^5=m, up to a given small ran\n",
    "### Input: ran, a positive integer\n",
    "### Output: 1 means the equation has such a solution pair, 0 means unable to determine\n",
    "\n",
    "def search(ran,c,m):\n",
    "    S1=Set([x^5 for x in range(-ran,ran+1)  ] )\n",
    "    S2=Set([c*y^5+m for y in range(-ran,ran+1)  ]  )\n",
    "    card=S1.intersection(S2).cardinality()\n",
    "    if card > 0:\n",
    "        return(1)\n",
    "    else:\n",
    "        return(0)\n",
    "                            "
   ]
  },
  {
   "cell_type": "code",
   "execution_count": 21,
   "metadata": {
    "collapsed": false
   },
   "outputs": [
   ],
   "source": [
    "### Main function\n",
    "### Method of Tzanakis and de Weger\n",
    "### Input: F(x,1), m\n",
    "###      F(x,1) must be irreducible and monic\n",
    "### Output: (abs(x),abs(y)) of all integer solutions pairs (x,y)\n",
    "\n",
    "\n",
    "def solveTzaWeg(F,m):\n",
    "    PolyRing1.<x> = QQ[]\n",
    "    poly=F\n",
    "    deg=poly.degree()\n",
    "    K.<theta> = NumberField(poly)\n",
    "    UG = UnitGroup(K)\n",
    "    TU=[u for u in UG.gens_values() if u.multiplicative_order() < +Infinity]\n",
    "    FU=[u for u in UG.gens_values() if u.multiplicative_order() == +Infinity]\n",
    "    rk=len(FU)\n",
    "    thetas=poly.roots(CC,multiplicities=False)\n",
    "    norm_list=K.elements_of_norm(m)\n",
    "    ### Ordering the roots and embeddings so that the real ones are in front, followed by distinct complex ones, then the conjugates \n",
    "    \n",
    "    real_roots=[]\n",
    "    comp_roots=[]\n",
    "    for i in thetas:\n",
    "        if i.is_real() == True:\n",
    "            real_roots.append(i)\n",
    "        else:\n",
    "            comp_roots.append(i)\n",
    "    r1=len(real_roots)\n",
    "    r2=(deg-r1)/2\n",
    "    if r1 < deg:\n",
    "        ordered_roots=[0 for i in range(deg)]\n",
    "    for i in range(r1):\n",
    "        ordered_roots[i]=real_roots[i]\n",
    "    index=r1\n",
    "    for i in range(2*r2):\n",
    "        if comp_roots[i] not in ordered_roots :\n",
    "            ordered_roots[index]=comp_roots[i]\n",
    "            ordered_roots[index+r2]=comp_roots[i].conjugate()\n",
    "            index=index+1\n",
    "    thetas=ordered_roots\n",
    "    from sage.rings.number_field.number_field_morphisms import create_embedding_from_approx\n",
    "    emb=[create_embedding_from_approx(K, thetas[i]) for i in range(deg) ]\n",
    "    \n",
    "    \n",
    "    ### computing c1\n",
    "    M=matrix(RR,deg,deg)\n",
    "    for i in range(deg):\n",
    "        for j in range(deg):\n",
    "            if j < i:\n",
    "                M[i,j] = abs(thetas[i]-thetas[j])\n",
    "            else:\n",
    "                M[i,j] = abs(thetas[i])+abs(thetas[j])\n",
    "    c1=2/min(M.list())\n",
    "    ### Computing c2, c3\n",
    "    L=[0 for i in range(deg)]\n",
    "    for i in range(deg):\n",
    "        L[i]=max([abs((thetas[i]-thetas[j])/(thetas[i]-thetas[k])).n(prec=50) for j in range(deg) for k in range(deg) if j != i if k != j if k != i ])\n",
    "    c2=max(L)\n",
    "    c3=c1*c2\n",
    "    ### Computing c4, c5\n",
    "    MFU = matrix(RR, rk+1, rk, lambda i, j: ln(abs(emb[i](FU[j]).n(prec=50))))   ### Matrix of log of abs of fundamental units\n",
    "    V=[(MFU.delete_rows([i])).inverse() for i in range(rk+1)]    ### Inverse of matrix U_I as in the text\n",
    "    c4=1/(max([V[i].norm(Infinity) for i in range(rk+1)] ))\n",
    "    c5=c4/(deg-0.9)\n",
    "    ### Cases A,B \n",
    "    ### Computing c6, c7 and the corresponding A1,A2\n",
    "    M=matrix(RR,deg,len(norm_list))\n",
    "    for i in range(deg):\n",
    "        for j in range(len(norm_list)):\n",
    "            M[i,j]=( abs( emb[i](norm_list[j]) .n(prec=60) ))^(-1)         \n",
    "    c6=max(M.list())\n",
    "    c7=min(M.list())\n",
    "    A1=ln(c6*abs(m))/(c4-(deg-1)*c5)\n",
    "    A1_min=ln(c6*abs(m))/(c4)\n",
    "    A2=ln(c7)/(c4-c5)\n",
    "    ### Case C\n",
    "    ### Loop all possible abs(theta_i) in the real roots \n",
    "    bound_temp=[A1_min,A2,3]\n",
    "    CC100=ComplexField(100)\n",
    "    for i in range(deg):\n",
    "        if thetas[i].is_real() == True:\n",
    "            JK=[j for j in range(deg) if j != 1]\n",
    "            j=JK[deg-2]\n",
    "            k=JK[deg-3]\n",
    "            alpha2=CC100((emb[i](norm_list[0])/emb[j](norm_list[0])))*CC100((emb[i](FU[0])/emb[j](FU[0])))*((thetas[j]-thetas[k])/(thetas[k]-thetas[i]))\n",
    "            units=[]\n",
    "            for ii in range(rk):\n",
    "                units.append((emb[k](FU[ii])/emb[j](FU[ii])))\n",
    "            vector=units\n",
    "            vector.append(alpha2)\n",
    "            heights=HeightMod( vector ,deg)\n",
    "            hm0=abs(ln(-1))\n",
    "            c8=(18*factorial(5)*(4^5)*(256^6)*ln(64)*prod(heights)*hm0)\n",
    "            A_0=(2/c5)*( ln(2*c3) +c8*ln(3/2) +c8*ln(c8/c5)  ).n(prec=16)\n",
    "            alpha0=ln(-alpha2)\n",
    "            ALPHA=units\n",
    "            ALPHA.append(2*pi*sqrt(-1))\n",
    "            p1=2*c3\n",
    "            p2=c5\n",
    "            bound1=LLLReduction(alpha0,ALPHA,A_0,p1,p2)\n",
    "            if bound1 >= 50:\n",
    "                bound2=LLLReduction(alpha0,ALPHA,bound1,p1,p2)\n",
    "                if bound2 >= 50:\n",
    "                    bound3=LLLReduction(alpha0,ALPHA,bound2,p1,p2)\n",
    "                else:\n",
    "                    bound3=bound2\n",
    "            else:\n",
    "                bound3=bound1\n",
    "            bound_temp.append(bound3)\n",
    "    bound_final=floor(max(bound_temp))\n",
    "    \n",
    "    XY=[]\n",
    "    from itertools import product\n",
    "    per=list(product(range(-bound_final,bound_final+1), repeat=rk))   ### Repeated permutation\n",
    "    for i in range(len(per)):\n",
    "        result1=prod([FU[j]^(per[i][j]) for j in range(rk)])\n",
    "        for k in range(len(norm_list)):\n",
    "            for ii in range(len(TU)):\n",
    "                result2=(norm_list[k])*(TU[ii])*result1\n",
    "                P=result2.polynomial(var='t')\n",
    "                if P.degree() <2:\n",
    "                    a0=abs(result2[0])\n",
    "                    a1=abs(result2[1])\n",
    "                    XY.append((a0,a1))\n",
    "    return(sorted(set(XY)))"
   ]
  },
  {
   "cell_type": "code",
   "execution_count": 13,
   "metadata": {
    "collapsed": false
   },
   "outputs": [
    {
     "name": "stdout",
     "output_type": "stream",
     "text": [
      "total number of equations considered = 100\n",
      "out of which are solvable by brute search of solution up to 20= 34\n",
      "out of which passed the solvability test and hence are up to further inspection = 56\n"
     ]
    }
   ],
   "source": [
    "### Preliminary algorithm\n",
    "### x^5 - c*y^5 = m in Z[x,y], where abs(c)<=n and abs(m)<=n, and WLOG c,m>0\n",
    "\n",
    "n=10\n",
    "CCC=[i for i in range(1,n+1)]   # c\n",
    "MMM=[i for i in range(1,n+1)]   # m\n",
    "L1=[]\n",
    "L2=[]\n",
    "for i in range(len(CCC)):\n",
    "    x = polygen(ZZ, 'x')\n",
    "    poly=x^5 - CCC[i]\n",
    "    if poly.is_irreducible() == True:\n",
    "        for j in range(len(MMM)):\n",
    "            if search(20,CCC[i],MMM[j]) == 1:\n",
    "                L1.append((CCC[i],MMM[j]))\n",
    "            else:\n",
    "                const=NormCheck(CCC[i],MMM[j])\n",
    "                if const==1:\n",
    "                    if reduction(CCC[i],MMM[j],2) == 0:\n",
    "                        L2.append((CCC[i],MMM[j]))\n",
    "                    \n",
    "\n",
    "print('total number of equations considered =',len(CCC)*len(MMM))\n",
    "print('out of which are solvable by brute search of solution up to 20=',len(L1))\n",
    "print('out of which passed the solvability test and hence are up to further inspection =',len(L2))"
   ]
  },
  {
   "cell_type": "code",
   "execution_count": 14,
   "metadata": {
    "collapsed": false
   },
   "outputs": [
    {
     "name": "stdout",
     "output_type": "stream",
     "text": [
      "[(2, 1), (2, 2), (2, 3), (3, 1), (3, 2), (3, 3), (3, 4), (4, 1), (4, 3), (4, 4), (4, 5), (5, 1), (5, 4), (5, 5), (5, 6), (6, 1), (6, 5), (6, 6), (6, 7), (7, 1), (7, 6), (7, 7), (7, 8), (8, 1), (8, 7), (8, 8), (8, 9), (9, 1), (9, 8), (9, 9), (9, 10), (10, 1), (10, 9), (10, 10)]\n"
     ]
    }
   ],
   "source": [
    "print(L1)"
   ]
  },
  {
   "cell_type": "code",
   "execution_count": 15,
   "metadata": {
    "collapsed": false
   },
   "outputs": [
    {
     "name": "stdout",
     "output_type": "stream",
     "text": [
      "[(2, 4), (2, 5), (2, 6), (2, 7), (2, 8), (2, 9), (2, 10), (3, 5), (3, 6), (3, 7), (3, 8), (3, 9), (3, 10), (4, 2), (4, 6), (4, 7), (4, 8), (4, 9), (4, 10), (5, 2), (5, 3), (5, 7), (5, 8), (5, 9), (5, 10), (6, 2), (6, 3), (6, 4), (6, 8), (6, 9), (6, 10), (7, 2), (7, 3), (7, 4), (7, 5), (7, 9), (7, 10), (8, 2), (8, 3), (8, 4), (8, 5), (8, 6), (8, 10), (9, 2), (9, 3), (9, 4), (9, 5), (9, 6), (9, 7), (10, 2), (10, 3), (10, 4), (10, 5), (10, 6), (10, 7), (10, 8)]\n"
     ]
    }
   ],
   "source": [
    "print(L2)"
   ]
  },
  {
   "cell_type": "code",
   "execution_count": 22,
   "metadata": {
    "collapsed": false
   },
   "outputs": [
    {
     "name": "stdout",
     "output_type": "stream",
     "text": [
      "((2, 4), [])\n"
     ]
    },
    {
     "name": "stdout",
     "output_type": "stream",
     "text": [
      "((2, 5), [])\n"
     ]
    },
    {
     "name": "stdout",
     "output_type": "stream",
     "text": [
      "((2, 6), [])\n"
     ]
    },
    {
     "name": "stdout",
     "output_type": "stream",
     "text": [
      "((2, 7), [])\n"
     ]
    },
    {
     "name": "stdout",
     "output_type": "stream",
     "text": [
      "((2, 8), [])\n"
     ]
    },
    {
     "name": "stdout",
     "output_type": "stream",
     "text": [
      "((2, 9), [])\n"
     ]
    },
    {
     "name": "stdout",
     "output_type": "stream",
     "text": [
      "((2, 10), [])\n"
     ]
    },
    {
     "name": "stdout",
     "output_type": "stream",
     "text": [
      "((3, 5), [])\n"
     ]
    },
    {
     "name": "stdout",
     "output_type": "stream",
     "text": [
      "((3, 6), [])\n"
     ]
    },
    {
     "name": "stdout",
     "output_type": "stream",
     "text": [
      "((3, 7), [])\n"
     ]
    },
    {
     "name": "stdout",
     "output_type": "stream",
     "text": [
      "((3, 8), [])\n"
     ]
    },
    {
     "name": "stdout",
     "output_type": "stream",
     "text": [
      "((3, 9), [])\n"
     ]
    },
    {
     "name": "stdout",
     "output_type": "stream",
     "text": [
      "((3, 10), [])\n"
     ]
    },
    {
     "name": "stdout",
     "output_type": "stream",
     "text": [
      "((4, 2), [])\n"
     ]
    },
    {
     "name": "stdout",
     "output_type": "stream",
     "text": [
      "((4, 6), [])\n"
     ]
    },
    {
     "name": "stdout",
     "output_type": "stream",
     "text": [
      "((4, 7), [])\n"
     ]
    },
    {
     "name": "stdout",
     "output_type": "stream",
     "text": [
      "((4, 8), [])\n"
     ]
    },
    {
     "name": "stdout",
     "output_type": "stream",
     "text": [
      "((4, 9), [])\n"
     ]
    },
    {
     "name": "stdout",
     "output_type": "stream",
     "text": [
      "((4, 10), [])\n"
     ]
    },
    {
     "name": "stdout",
     "output_type": "stream",
     "text": [
      "((5, 2), [])\n"
     ]
    },
    {
     "name": "stdout",
     "output_type": "stream",
     "text": [
      "((5, 3), [])\n"
     ]
    },
    {
     "name": "stdout",
     "output_type": "stream",
     "text": [
      "((5, 7), [])\n"
     ]
    },
    {
     "name": "stdout",
     "output_type": "stream",
     "text": [
      "((5, 8), [])\n"
     ]
    },
    {
     "name": "stdout",
     "output_type": "stream",
     "text": [
      "((5, 9), [])\n"
     ]
    },
    {
     "name": "stdout",
     "output_type": "stream",
     "text": [
      "((5, 10), [])\n"
     ]
    },
    {
     "name": "stdout",
     "output_type": "stream",
     "text": [
      "((6, 2), [])\n"
     ]
    },
    {
     "name": "stdout",
     "output_type": "stream",
     "text": [
      "((6, 3), [])\n"
     ]
    },
    {
     "name": "stdout",
     "output_type": "stream",
     "text": [
      "((6, 4), [])\n"
     ]
    },
    {
     "name": "stdout",
     "output_type": "stream",
     "text": [
      "((6, 8), [])\n"
     ]
    },
    {
     "name": "stdout",
     "output_type": "stream",
     "text": [
      "((6, 9), [])\n"
     ]
    },
    {
     "name": "stdout",
     "output_type": "stream",
     "text": [
      "((6, 10), [])\n"
     ]
    },
    {
     "name": "stdout",
     "output_type": "stream",
     "text": [
      "((7, 2), [])\n"
     ]
    },
    {
     "name": "stdout",
     "output_type": "stream",
     "text": [
      "((7, 3), [])\n"
     ]
    },
    {
     "name": "stdout",
     "output_type": "stream",
     "text": [
      "((7, 4), [])\n"
     ]
    },
    {
     "name": "stdout",
     "output_type": "stream",
     "text": [
      "((7, 5), [])\n"
     ]
    },
    {
     "name": "stdout",
     "output_type": "stream",
     "text": [
      "((7, 9), [])\n"
     ]
    },
    {
     "name": "stdout",
     "output_type": "stream",
     "text": [
      "((7, 10), [])\n"
     ]
    },
    {
     "name": "stdout",
     "output_type": "stream",
     "text": [
      "((8, 2), [])\n"
     ]
    },
    {
     "name": "stdout",
     "output_type": "stream",
     "text": [
      "((8, 3), [])\n"
     ]
    },
    {
     "name": "stdout",
     "output_type": "stream",
     "text": [
      "((8, 4), [])\n"
     ]
    },
    {
     "name": "stdout",
     "output_type": "stream",
     "text": [
      "((8, 5), [])\n"
     ]
    },
    {
     "name": "stdout",
     "output_type": "stream",
     "text": [
      "((8, 6), [])\n"
     ]
    },
    {
     "name": "stdout",
     "output_type": "stream",
     "text": [
      "((8, 10), [])\n"
     ]
    },
    {
     "name": "stdout",
     "output_type": "stream",
     "text": [
      "((9, 2), [])\n"
     ]
    },
    {
     "name": "stdout",
     "output_type": "stream",
     "text": [
      "((9, 3), [])\n"
     ]
    },
    {
     "name": "stdout",
     "output_type": "stream",
     "text": [
      "((9, 4), [])\n"
     ]
    },
    {
     "name": "stdout",
     "output_type": "stream",
     "text": [
      "((9, 5), [])\n"
     ]
    },
    {
     "name": "stdout",
     "output_type": "stream",
     "text": [
      "((9, 6), [])\n"
     ]
    },
    {
     "name": "stdout",
     "output_type": "stream",
     "text": [
      "((9, 7), [])\n"
     ]
    },
    {
     "name": "stdout",
     "output_type": "stream",
     "text": [
      "((10, 2), [])\n"
     ]
    },
    {
     "name": "stdout",
     "output_type": "stream",
     "text": [
      "((10, 3), [])\n"
     ]
    },
    {
     "name": "stdout",
     "output_type": "stream",
     "text": [
      "((10, 4), [])\n"
     ]
    },
    {
     "name": "stdout",
     "output_type": "stream",
     "text": [
      "((10, 5), [])\n"
     ]
    },
    {
     "name": "stdout",
     "output_type": "stream",
     "text": [
      "((10, 6), [])\n"
     ]
    },
    {
     "name": "stdout",
     "output_type": "stream",
     "text": [
      "((10, 7), [])\n"
     ]
    },
    {
     "name": "stdout",
     "output_type": "stream",
     "text": [
      "((10, 8), [])\n"
     ]
    }
   ],
   "source": [
    "### Verify no solution exists for the combinations in L2\n",
    "\n",
    "\n",
    "L2_sol=[]\n",
    "for i in range(len(L2)):\n",
    "    F=x^5-L2[i][0]\n",
    "    sol=solveTzaWeg(F,L2[i][1])\n",
    "    L2_sol.append((L2[i],sol))\n",
    "    print((L2[i],sol))"
   ]
  },
  {
   "cell_type": "code",
   "execution_count": 23,
   "metadata": {
    "collapsed": false
   },
   "outputs": [
    {
     "name": "stdout",
     "output_type": "stream",
     "text": [
      "((2, 1), [(1, 0), (1, 1)])\n"
     ]
    },
    {
     "name": "stdout",
     "output_type": "stream",
     "text": [
      "((2, 2), [(0, 1)])\n"
     ]
    },
    {
     "name": "stdout",
     "output_type": "stream",
     "text": [
      "((2, 3), [(1, 1)])\n"
     ]
    },
    {
     "name": "stdout",
     "output_type": "stream",
     "text": [
      "((3, 1), [(1, 0)])\n"
     ]
    },
    {
     "name": "stdout",
     "output_type": "stream",
     "text": [
      "((3, 2), [(1, 1)])\n"
     ]
    },
    {
     "name": "stdout",
     "output_type": "stream",
     "text": [
      "((3, 3), [(0, 1)])\n"
     ]
    },
    {
     "name": "stdout",
     "output_type": "stream",
     "text": [
      "((3, 4), [(1, 1)])\n"
     ]
    },
    {
     "name": "stdout",
     "output_type": "stream",
     "text": [
      "((4, 1), [(1, 0)])\n"
     ]
    },
    {
     "name": "stdout",
     "output_type": "stream",
     "text": [
      "((4, 3), [(1, 1)])\n"
     ]
    },
    {
     "name": "stdout",
     "output_type": "stream",
     "text": [
      "((4, 4), [(0, 1)])\n"
     ]
    },
    {
     "name": "stdout",
     "output_type": "stream",
     "text": [
      "((4, 5), [(1, 1)])\n"
     ]
    },
    {
     "name": "stdout",
     "output_type": "stream",
     "text": [
      "((5, 1), [(1, 0)])\n"
     ]
    },
    {
     "name": "stdout",
     "output_type": "stream",
     "text": [
      "((5, 4), [(1, 1)])\n"
     ]
    },
    {
     "name": "stdout",
     "output_type": "stream",
     "text": [
      "((5, 5), [(0, 1)])\n"
     ]
    },
    {
     "name": "stdout",
     "output_type": "stream",
     "text": [
      "((5, 6), [(1, 1)])\n"
     ]
    },
    {
     "name": "stdout",
     "output_type": "stream",
     "text": [
      "((6, 1), [(1, 0)])\n"
     ]
    },
    {
     "name": "stdout",
     "output_type": "stream",
     "text": [
      "((6, 5), [(1, 1)])\n"
     ]
    },
    {
     "name": "stdout",
     "output_type": "stream",
     "text": [
      "((6, 6), [(0, 1)])\n"
     ]
    },
    {
     "name": "stdout",
     "output_type": "stream",
     "text": [
      "((6, 7), [(1, 1)])\n"
     ]
    },
    {
     "name": "stdout",
     "output_type": "stream",
     "text": [
      "((7, 1), [(1, 0)])\n"
     ]
    },
    {
     "name": "stdout",
     "output_type": "stream",
     "text": [
      "((7, 6), [(1, 1)])\n"
     ]
    },
    {
     "name": "stdout",
     "output_type": "stream",
     "text": [
      "((7, 7), [(0, 1)])\n"
     ]
    },
    {
     "name": "stdout",
     "output_type": "stream",
     "text": [
      "((7, 8), [(1, 1)])\n"
     ]
    },
    {
     "name": "stdout",
     "output_type": "stream",
     "text": [
      "((8, 1), [(1, 0)])\n"
     ]
    },
    {
     "name": "stdout",
     "output_type": "stream",
     "text": [
      "((8, 7), [(1, 1)])\n"
     ]
    },
    {
     "name": "stdout",
     "output_type": "stream",
     "text": [
      "((8, 8), [(0, 1)])\n"
     ]
    },
    {
     "name": "stdout",
     "output_type": "stream",
     "text": [
      "((8, 9), [(1, 1)])\n"
     ]
    },
    {
     "name": "stdout",
     "output_type": "stream",
     "text": [
      "((9, 1), [(1, 0)])\n"
     ]
    },
    {
     "name": "stdout",
     "output_type": "stream",
     "text": [
      "((9, 8), [(1, 1)])\n"
     ]
    },
    {
     "name": "stdout",
     "output_type": "stream",
     "text": [
      "((9, 9), [(0, 1)])\n"
     ]
    },
    {
     "name": "stdout",
     "output_type": "stream",
     "text": [
      "((9, 10), [(1, 1)])\n"
     ]
    },
    {
     "name": "stdout",
     "output_type": "stream",
     "text": [
      "((10, 1), [(1, 0)])\n"
     ]
    },
    {
     "name": "stdout",
     "output_type": "stream",
     "text": [
      "((10, 9), [(1, 1)])\n"
     ]
    },
    {
     "name": "stdout",
     "output_type": "stream",
     "text": [
      "((10, 10), [(0, 1)])\n"
     ]
    }
   ],
   "source": [
    "### Find all solutions for the combinations in L1\n",
    "### Took about 80 secs on my laptop\n",
    "\n",
    "\n",
    "L1_sol=[]\n",
    "for i in range(len(L1)):\n",
    "    F=x^5-L1[i][0]\n",
    "    sol=solveTzaWeg(F,L1[i][1])\n",
    "    L1_sol.append((L1[i],sol))\n",
    "    print((L1[i],sol))"
   ]
  },
  {
   "cell_type": "code",
   "execution_count": 0,
   "metadata": {
    "collapsed": false
   },
   "outputs": [
   ],
   "source": [
    "### Method of Bilu and Hanrot\n",
    "### Method of Bilu and Hanrot\n",
    "### Method of Bilu and Hanrot"
   ]
  },
  {
   "cell_type": "code",
   "execution_count": 32,
   "metadata": {
    "collapsed": false
   },
   "outputs": [
   ],
   "source": [
    "### The method of Bilu and Hanrot\n",
    "### Input :F(x,1), m\n",
    "###      F(x,1) must be irreducible and monic\n",
    "### Output: absolute values of the solution pairs\n",
    "\n",
    "\n",
    "\n",
    "def solveBiluHanrot(F,m):\n",
    "    CC500=ComplexField(500)\n",
    "    ComplexNumber=CC500\n",
    "    PolyRing1.<x> = QQ[]\n",
    "    poly=F\n",
    "    deg=poly.degree()\n",
    "    K.<theta> = NumberField(poly)\n",
    "    UG = UnitGroup(K)\n",
    "    TU=[u for u in UG.gens_values() if u.multiplicative_order() < +Infinity]\n",
    "    FU=[u for u in UG.gens_values() if u.multiplicative_order() == +Infinity]\n",
    "    rk=len(FU)\n",
    "    thetas=poly.roots(CC,multiplicities=False)\n",
    "    norm_list=K.elements_of_norm(m)\n",
    "    ### Ordering the roots and embeddings so that the real ones are in front, followed by distinct complex ones, then the conjugates \n",
    "    \n",
    "    real_roots=[]\n",
    "    comp_roots=[]\n",
    "    for i in thetas:\n",
    "        if i.is_real() == True:\n",
    "            real_roots.append(i)\n",
    "        else:\n",
    "            comp_roots.append(i)\n",
    "    r1=len(real_roots)\n",
    "    r2=(deg-r1)/2\n",
    "    if r1 < deg:\n",
    "        ordered_roots=[0 for i in range(deg)]\n",
    "    for i in range(r1):\n",
    "        ordered_roots[i]=real_roots[i]\n",
    "    index=r1\n",
    "    for i in range(2*r2):\n",
    "        if comp_roots[i] not in ordered_roots :\n",
    "            ordered_roots[index]=comp_roots[i]\n",
    "            ordered_roots[index+r2]=comp_roots[i].conjugate()\n",
    "            index=index+1\n",
    "    thetas=ordered_roots\n",
    "    from sage.rings.number_field.number_field_morphisms import create_embedding_from_approx\n",
    "    emb=[create_embedding_from_approx(K, thetas[i]) for i in range(deg) ]\n",
    "    \n",
    "    \n",
    "    ### computing c1\n",
    "    M=matrix(RR,deg,deg)\n",
    "    for i in range(deg):\n",
    "        for j in range(deg):\n",
    "            if j < i:\n",
    "                M[i,j] = abs(thetas[i]-thetas[j])\n",
    "            else:\n",
    "                M[i,j] = abs(thetas[i])+abs(thetas[j])\n",
    "    c1=2/min(M.list())\n",
    "    ### Computing c2, c3\n",
    "    ### Might take long time, as there are deg^3 computations\n",
    "    L=[0 for i in range(deg)]\n",
    "    for i in range(deg):\n",
    "        L[i]=max([abs((thetas[i]-thetas[j])/(thetas[i]-thetas[k])) for j in range(deg) for k in range(deg) if j != i if k != j if k != i ])\n",
    "    c2=max(L)\n",
    "    c3=c1*c2\n",
    "    ### Computing c4, c5\n",
    "    MFU = matrix(RR, rk+1, rk, lambda i, j: ln(abs(emb[i](FU[j]).n(prec=50))))   ### Matrix of log of abs of fundamental units\n",
    "    V=[(MFU.delete_rows([i])).inverse() for i in range(rk+1)]    ### Inverse of matrix U_I as in the text\n",
    "    c4=1/(max([V[i].norm(Infinity) for i in range(rk+1)] ))\n",
    "    c5=c4/(deg-0.9)\n",
    "    ### Cases A,B \n",
    "    ### Computing c6, c7 and the corresponding A1,A2\n",
    "    M=matrix(RR,deg,len(norm_list))\n",
    "    for i in range(deg):\n",
    "        for j in range(len(norm_list)):\n",
    "            M[i,j]=( abs( CC(emb[i](norm_list[j]))  ))^(-1)         \n",
    "    c6=max(M.list())\n",
    "    c7=min(M.list())\n",
    "    A1=ln(c6*abs(m))/(c4-(deg-1)*c5)\n",
    "    A1_min=ln(c6*abs(m))/(c4)\n",
    "    A2=ln(c7)/(c4-c5)\n",
    "    ### Case C\n",
    "    ### Computing c8 and an initial bound on A\n",
    "    \n",
    "    \n",
    "    bound_temp=[A1_min,A2,3]\n",
    "    CC100=ComplexField(100)\n",
    "    for i in range(deg):\n",
    "        if thetas[i].is_real() == True:\n",
    "            JK=[j for j in range(deg) if j != 1]\n",
    "            j=JK[deg-2]\n",
    "            k=JK[deg-3]\n",
    "            alpha2=CC100((emb[i](norm_list[0])/emb[j](norm_list[0])))*CC100((emb[i](FU[0])/emb[j](FU[0])))*((thetas[j]-thetas[k])/(thetas[k]-thetas[i]))\n",
    "            units=[]\n",
    "            for ii in range(rk):\n",
    "                units.append((emb[k](FU[ii])/emb[j](FU[ii])))\n",
    "            vector=units\n",
    "            vector.append(alpha2)\n",
    "            heights=HeightMod( vector ,deg)\n",
    "            hm0=abs(ln(-1))\n",
    "            c8=(18*factorial(5)*(4^5)*(256^6)*ln(64)*prod(heights)*hm0)\n",
    "            A_0=RR((2/c5)*( ln(2*c3) +c8*ln(3/2) +c8*ln(c8/c5)  )).ceil()\n",
    "    \n",
    "    \n",
    "            MFU = matrix( CC500, rk+1, rk, lambda i, j: ln( abs(CC500(emb[i](FU[j]))) ) )  \n",
    "            II=[]\n",
    "            for i in range(rk+1):\n",
    "                II.append(  [i,[j for j in range(rk+1) if j!=i]]   )\n",
    "            V=[(MFU.delete_rows([i])).inverse() for i in range(rk+1)]    ### V_I, inverse of matrix U_I as in the text\n",
    "            K.<theta> = NumberField(poly) ### Redefine theta as in the number field, otherwise it's recognised as in the symbolic ring\n",
    "            import numpy\n",
    "            delta=[sum(numpy.abs(V[i].row(j).list())) for i in range(rk+1) for j in range(rk)]\n",
    "            u=norm_list[0]\n",
    "            LL=[[ln( abs_mod(  ((emb[II[i][0]](theta)- emb[j](theta))/emb[j](u)) )   ) for j in II[i][1] ] for i in range(rk+1)]\n",
    "            LV=[(MFU.delete_rows([i])).inverse() for i in range(rk+1)]\n",
    "            for i in range(rk):\n",
    "                for j in range(rk+1):\n",
    "                    LV[j].set_col_to_multiple_of_col(i, i, LL[j][i])\n",
    "            ### Calculating c9, c10, c11, lamdba_k's\n",
    "            lam=[sum(LV[i].row(j)) for i in range(rk+1) for j in range(rk)]\n",
    "            c10=max(abs(delta[0]),abs(delta[1]))\n",
    "            c11=max(((abs(V[0][0,0])+abs(V[0][0,1]))/deg )+abs(lam[0]),  ((abs(V[0][1,0])+abs(V[0][1,1]))/deg )+abs(lam[1]))\n",
    "            c9=max([2^(deg-1)*abs(m)/abs(poly.derivative()(thetas[i])) for i in range(deg)])\n",
    "            M=matrix(CC,deg,deg)\n",
    "            for i in range(deg):\n",
    "                for j in range(deg):\n",
    "                    if j < i:\n",
    "                        M[i,j] = abs(thetas[i]-thetas[j])\n",
    "                    else:\n",
    "                        M[i,j] = abs(thetas[i])+abs(thetas[j])\n",
    "            c1=2/min(M.list())\n",
    "            c14=c1*c9*e^(deg*c11/c10)\n",
    "            c15=deg/c10\n",
    "            c16=c14*(V[0].norm(Infinity))\n",
    "            ### Calculating S_g, T_g\n",
    "            delta_h=max(abs(delta[0]),abs(delta[1]))\n",
    "            h=0\n",
    "            if delta_h in delta == True:\n",
    "                h=delta.index(delta_h)\n",
    "            else:\n",
    "                if -delta_h in delta == True:\n",
    "                    h=delta.index(-delta_h)\n",
    "            if h == 0 :\n",
    "                g=1\n",
    "            else:\n",
    "                g=0\n",
    "            S_g=delta[g]/delta[h]\n",
    "            T_g=(delta[g]*lam[h]-delta[h]*lam[g])/delta[h]\n",
    "            k=50\n",
    "            ### convergent of S_g with the smallest denominator > X0\n",
    "            ### Funtion to find q as in the text, using continued fractions\n",
    "            def cfreduction(S_g,A_0,k):\n",
    "                X0=k*A_0\n",
    "                index=0\n",
    "                c=continued_fraction(S_g)\n",
    "                while abs(c.numerator(index)-(S_g)*(c.denominator(index))) > 1/X0:\n",
    "                    index=index+1\n",
    "                    if c.denominator(index) > X0:\n",
    "                        break\n",
    "                q=c.denominator(index)\n",
    "                return(q,index)\n",
    "            k=50\n",
    "            q=cfreduction(S_g,A_0,k)[0]\n",
    "            index=cfreduction(S_g,A_0,k)[1]\n",
    "            RR500=RealField(500)\n",
    "            dist=min(  RR500(q*(T_g)).ceil()-q*(T_g),  q*(T_g)-RR500(q*(T_g)).floor()  )   ### distance to neareast integer of q*T_g\n",
    "            while dist < 2/k:\n",
    "                k=2*k\n",
    "                q=cfreduction(S_g,A_0,k)\n",
    "                if k > 10000:\n",
    "                    break\n",
    "            new_bound=RR((1/c15)*ln(2*c16*k^2*A_0)).ceil() \n",
    "            bound_temp.append(new_bound)\n",
    "    bound_final=floor(max(bound_temp))\n",
    "    \n",
    "    XY=[]\n",
    "    from itertools import product\n",
    "    per=list(product(range(-bound_final,bound_final+1), repeat=rk))   ### Repeated permutation\n",
    "    for i in range(len(per)):\n",
    "        result1=prod([FU[j]^(per[i][j]) for j in range(rk)])\n",
    "        for k in range(len(norm_list)):\n",
    "            for ii in range(len(TU)):\n",
    "                result2=(norm_list[k])*(TU[ii])*result1\n",
    "                P=result2.polynomial(var='t')\n",
    "                if P.degree() <2:\n",
    "                    a0=abs(result2[0])\n",
    "                    a1=abs(result2[1])\n",
    "                    XY.append((a0,a1))\n",
    "    \n",
    "    ### Computing Y2 and loop over all abs(y)<=Y2\n",
    "    min_roots_diff=min([abs(thetas[i]-thetas[j]) for i in range(deg) for j in range(deg) if j!=i])\n",
    "    Y2=RR((((deg+1)*c9)/min_roots_diff)^(1/deg))\n",
    "    Y2=Y2.floor()\n",
    "    for jj in range(Y2):\n",
    "        poly1=F.homogenize(y)\n",
    "        poly2=PolyRing1(poly1(x,jj))\n",
    "        int_roots=poly.roots(ZZ,multiplicities=False)\n",
    "        number1=len(int_roots)\n",
    "        if number1 > 0:\n",
    "            for kk in range(number1):\n",
    "                XY.append((int_roots[kk],jj))\n",
    "    return(sorted(set(XY)))"
   ]
  },
  {
   "cell_type": "code",
   "execution_count": 0,
   "metadata": {
    "collapsed": false
   },
   "outputs": [
   ],
   "source": [
   ]
  },
  {
   "cell_type": "code",
   "execution_count": 34,
   "metadata": {
    "collapsed": false
   },
   "outputs": [
    {
     "name": "stdout",
     "output_type": "stream",
     "text": [
      "((2, 1), [(1, 0), (1, 1)])\n"
     ]
    },
    {
     "name": "stdout",
     "output_type": "stream",
     "text": [
      "((2, 2), [(0, 1)])\n"
     ]
    },
    {
     "name": "stdout",
     "output_type": "stream",
     "text": [
      "((2, 3), [(1, 1)])\n"
     ]
    },
    {
     "name": "stdout",
     "output_type": "stream",
     "text": [
      "((3, 1), [(1, 0)])\n"
     ]
    },
    {
     "name": "stdout",
     "output_type": "stream",
     "text": [
      "((3, 2), [(1, 1)])\n"
     ]
    },
    {
     "name": "stdout",
     "output_type": "stream",
     "text": [
      "((3, 3), [(0, 1)])\n"
     ]
    },
    {
     "name": "stdout",
     "output_type": "stream",
     "text": [
      "((3, 4), [(1, 1)])\n"
     ]
    },
    {
     "name": "stdout",
     "output_type": "stream",
     "text": [
      "((4, 1), [(1, 0)])\n"
     ]
    },
    {
     "name": "stdout",
     "output_type": "stream",
     "text": [
      "((4, 3), [(1, 1)])\n"
     ]
    },
    {
     "name": "stdout",
     "output_type": "stream",
     "text": [
      "((4, 4), [(0, 1)])\n"
     ]
    },
    {
     "name": "stdout",
     "output_type": "stream",
     "text": [
      "((4, 5), [(1, 1)])\n"
     ]
    },
    {
     "name": "stdout",
     "output_type": "stream",
     "text": [
      "((5, 1), [(1, 0)])\n"
     ]
    },
    {
     "name": "stdout",
     "output_type": "stream",
     "text": [
      "((5, 4), [(1, 1)])\n"
     ]
    },
    {
     "name": "stdout",
     "output_type": "stream",
     "text": [
      "((5, 5), [(0, 1)])\n"
     ]
    },
    {
     "name": "stdout",
     "output_type": "stream",
     "text": [
      "((5, 6), [(1, 1)])\n"
     ]
    },
    {
     "name": "stdout",
     "output_type": "stream",
     "text": [
      "((6, 1), [(1, 0)])\n"
     ]
    },
    {
     "name": "stdout",
     "output_type": "stream",
     "text": [
      "((6, 5), [(1, 1)])\n"
     ]
    },
    {
     "name": "stdout",
     "output_type": "stream",
     "text": [
      "((6, 6), [(0, 1)])\n"
     ]
    },
    {
     "name": "stdout",
     "output_type": "stream",
     "text": [
      "((6, 7), [(1, 1)])\n"
     ]
    },
    {
     "name": "stdout",
     "output_type": "stream",
     "text": [
      "((7, 1), [(1, 0)])\n"
     ]
    },
    {
     "name": "stdout",
     "output_type": "stream",
     "text": [
      "((7, 6), [(1, 1)])\n"
     ]
    },
    {
     "name": "stdout",
     "output_type": "stream",
     "text": [
      "((7, 7), [(0, 1)])\n"
     ]
    },
    {
     "name": "stdout",
     "output_type": "stream",
     "text": [
      "((7, 8), [(1, 1)])\n"
     ]
    },
    {
     "name": "stdout",
     "output_type": "stream",
     "text": [
      "((8, 1), [(1, 0)])\n"
     ]
    },
    {
     "name": "stdout",
     "output_type": "stream",
     "text": [
      "((8, 7), [(1, 1)])\n"
     ]
    },
    {
     "name": "stdout",
     "output_type": "stream",
     "text": [
      "((8, 8), [(0, 1)])\n"
     ]
    },
    {
     "name": "stdout",
     "output_type": "stream",
     "text": [
      "((8, 9), [(1, 1)])\n"
     ]
    },
    {
     "name": "stdout",
     "output_type": "stream",
     "text": [
      "((9, 1), [(1, 0)])\n"
     ]
    },
    {
     "name": "stdout",
     "output_type": "stream",
     "text": [
      "((9, 8), [(1, 1)])\n"
     ]
    },
    {
     "name": "stdout",
     "output_type": "stream",
     "text": [
      "((9, 9), [(0, 1)])\n"
     ]
    },
    {
     "name": "stdout",
     "output_type": "stream",
     "text": [
      "((9, 10), [(1, 1)])\n"
     ]
    },
    {
     "name": "stdout",
     "output_type": "stream",
     "text": [
      "((10, 1), [(1, 0)])\n"
     ]
    },
    {
     "name": "stdout",
     "output_type": "stream",
     "text": [
      "((10, 9), [(1, 1)])\n"
     ]
    },
    {
     "name": "stdout",
     "output_type": "stream",
     "text": [
      "((10, 10), [(0, 1)])\n"
     ]
    }
   ],
   "source": [
    "### Find all solutions for the combinations in L1, with the method of B&H\n",
    "### Took about 70 secs on my laptop\n",
    "\n",
    "\n",
    "L1_sol_BH=[]\n",
    "for i in range(len(L1)):\n",
    "    F=x^5-L1[i][0]\n",
    "    sol=solveBiluHanrot(F,L1[i][1])\n",
    "    L1_sol_BH.append((L1[i],sol))\n",
    "    print((L1[i],sol))"
   ]
  },
  {
   "cell_type": "code",
   "execution_count": 0,
   "metadata": {
    "collapsed": false
   },
   "outputs": [
   ],
   "source": [
   ]
  }
 ],
 "metadata": {
  "kernelspec": {
   "argv": [
    "sage-9.8",
    "--python",
    "-m",
    "sage.repl.ipython_kernel",
    "--matplotlib=inline",
    "-f",
    "{connection_file}"
   ],
   "display_name": "SageMath 9.8",
   "env": {
   },
   "language": "sagemath",
   "metadata": {
    "cocalc": {
     "description": "Open-source mathematical software system",
     "priority": 1,
     "url": "https://www.sagemath.org/"
    }
   },
   "name": "sage-9.8",
   "resource_dir": "/ext/jupyter/kernels/sage-9.8"
  },
  "language_info": {
   "codemirror_mode": {
    "name": "ipython",
    "version": 3
   },
   "file_extension": ".py",
   "mimetype": "text/x-python",
   "name": "python",
   "nbconvert_exporter": "python",
   "pygments_lexer": "ipython3",
   "version": "3.11.1"
  }
 },
 "nbformat": 4,
 "nbformat_minor": 4
}